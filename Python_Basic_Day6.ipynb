{
  "nbformat": 4,
  "nbformat_minor": 0,
  "metadata": {
    "colab": {
      "name": "Python Basic Day6.ipynb",
      "provenance": [],
      "collapsed_sections": [],
      "authorship_tag": "ABX9TyOExN5xo5uiNYO2rNFAPR5u",
      "include_colab_link": true
    },
    "kernelspec": {
      "name": "python3",
      "display_name": "Python 3"
    },
    "language_info": {
      "name": "python"
    }
  },
  "cells": [
    {
      "cell_type": "markdown",
      "metadata": {
        "id": "view-in-github",
        "colab_type": "text"
      },
      "source": [
        "<a href=\"https://colab.research.google.com/github/chryu314/pythonbasicclass/blob/main/Python_Basic_Day6.ipynb\" target=\"_parent\"><img src=\"https://colab.research.google.com/assets/colab-badge.svg\" alt=\"Open In Colab\"/></a>"
      ]
    },
    {
      "cell_type": "code",
      "execution_count": 2,
      "metadata": {
        "colab": {
          "base_uri": "https://localhost:8080/"
        },
        "id": "Oc502tu2x1wV",
        "outputId": "3741e9c1-beaf-45a7-e9be-535989cd7ad9"
      },
      "outputs": [
        {
          "output_type": "stream",
          "name": "stdout",
          "text": [
            "1\n",
            "2\n",
            "3\n"
          ]
        }
      ],
      "source": [
        "# 116 page\n",
        "\n",
        "#for 반복문 , 주로 반복횟수를 명확히 알고 있을 때 사용.\n",
        "\n",
        "# for 변수 in 반복객체:\n",
        "#   반복실행\n",
        "\n",
        "for i in [1,2,3]:\n",
        "  print(i)"
      ]
    },
    {
      "cell_type": "code",
      "source": [
        "for i in 'Hello':\n",
        "  print(i)\n"
      ],
      "metadata": {
        "colab": {
          "base_uri": "https://localhost:8080/"
        },
        "id": "a172ERfzzRHC",
        "outputId": "30aee931-6819-49d2-db20-8704c324c8a0"
      },
      "execution_count": 3,
      "outputs": [
        {
          "output_type": "stream",
          "name": "stdout",
          "text": [
            "H\n",
            "e\n",
            "l\n",
            "l\n",
            "o\n"
          ]
        }
      ]
    },
    {
      "cell_type": "code",
      "source": [
        "for item in ['가위','바위','보']:\n",
        "  print(item)"
      ],
      "metadata": {
        "colab": {
          "base_uri": "https://localhost:8080/"
        },
        "id": "JfH0NJgGzgPi",
        "outputId": "792c29c3-0135-4aa1-dabe-e963ab03505f"
      },
      "execution_count": 4,
      "outputs": [
        {
          "output_type": "stream",
          "name": "stdout",
          "text": [
            "가위\n",
            "바위\n",
            "보\n"
          ]
        }
      ]
    },
    {
      "cell_type": "code",
      "source": [
        "# 리스트 내포 : for 문을 이요해서 리스트를 간단히 생성한다.\n",
        "\n",
        "[n*2       for n in [1,2,3]]"
      ],
      "metadata": {
        "colab": {
          "base_uri": "https://localhost:8080/"
        },
        "id": "4eLL2rL1zyzD",
        "outputId": "a1a418a4-1358-49ae-fcb5-0c0aa83e6f24"
      },
      "execution_count": 5,
      "outputs": [
        {
          "output_type": "execute_result",
          "data": {
            "text/plain": [
              "[2, 4, 6]"
            ]
          },
          "metadata": {},
          "execution_count": 5
        }
      ]
    },
    {
      "cell_type": "code",
      "source": [
        "[n*2     for n in [1,2,3,4,5]      if n%2 == 1]"
      ],
      "metadata": {
        "colab": {
          "base_uri": "https://localhost:8080/"
        },
        "id": "wNMdhZTi0dEi",
        "outputId": "abc51a4a-8a1e-4418-ae46-f7a5ba13d956"
      },
      "execution_count": 6,
      "outputs": [
        {
          "output_type": "execute_result",
          "data": {
            "text/plain": [
              "[2, 6, 10]"
            ]
          },
          "metadata": {},
          "execution_count": 6
        }
      ]
    },
    {
      "cell_type": "code",
      "source": [
        "for_seasons = ('Spring','Summer','Autumn','Winter')\n",
        "for season in for_seasons:\n",
        "  print(season)\n"
      ],
      "metadata": {
        "colab": {
          "base_uri": "https://localhost:8080/"
        },
        "id": "Drr_dzRf1X30",
        "outputId": "ef9d6479-5f3f-4d4c-a569-d3367352687e"
      },
      "execution_count": 28,
      "outputs": [
        {
          "output_type": "stream",
          "name": "stdout",
          "text": [
            "Spring\n",
            "Summer\n",
            "Autumn\n",
            "Winter\n"
          ]
        }
      ]
    },
    {
      "cell_type": "code",
      "source": [
        "# range()\n",
        "# 정수 범위를 만들어 낼때 유요한 아주 많이 for문과 사용되는 함수\n",
        "\n",
        "# range(start, stop, step)  # start(0부터), step(1씩 증가) 은 생략 가능\n",
        "\n",
        "print(list(range(5))) # start생략, step생략 0,1,2,3,4   0부터 5미만\n",
        "print(list(range(1,11)))#step만 생략 1부터 11미만 \n",
        "print(tuple(range(5)))"
      ],
      "metadata": {
        "colab": {
          "base_uri": "https://localhost:8080/"
        },
        "id": "BGyWU2Zr2f-J",
        "outputId": "37440c57-df18-4fa5-f30e-3146466693ef"
      },
      "execution_count": 39,
      "outputs": [
        {
          "output_type": "stream",
          "name": "stdout",
          "text": [
            "[0, 1, 2, 3, 4]\n",
            "[1, 2, 3, 4, 5, 6, 7, 8, 9, 10]\n",
            "(0, 1, 2, 3, 4)\n"
          ]
        }
      ]
    },
    {
      "cell_type": "code",
      "source": [
        "for i in range(5):\n",
        "  print(i)"
      ],
      "metadata": {
        "colab": {
          "base_uri": "https://localhost:8080/"
        },
        "id": "4uC_v6RS3cwB",
        "outputId": "5ec36940-365d-48b5-a7cd-4cc638851545"
      },
      "execution_count": 14,
      "outputs": [
        {
          "output_type": "stream",
          "name": "stdout",
          "text": [
            "0\n",
            "1\n",
            "2\n",
            "3\n",
            "4\n"
          ]
        }
      ]
    },
    {
      "cell_type": "code",
      "source": [
        "for i in range(1,11):\n",
        "  print('Hi')"
      ],
      "metadata": {
        "colab": {
          "base_uri": "https://localhost:8080/"
        },
        "id": "qTJGy3Vw3kV8",
        "outputId": "2c624a51-7821-48cd-9ef3-9555cbe87df3"
      },
      "execution_count": 18,
      "outputs": [
        {
          "output_type": "stream",
          "name": "stdout",
          "text": [
            "Hi\n",
            "Hi\n",
            "Hi\n",
            "Hi\n",
            "Hi\n",
            "Hi\n",
            "Hi\n",
            "Hi\n",
            "Hi\n",
            "Hi\n"
          ]
        }
      ]
    },
    {
      "cell_type": "code",
      "source": [
        "for item in ['가위','바위','보']:\n",
        "  print(item)"
      ],
      "metadata": {
        "colab": {
          "base_uri": "https://localhost:8080/"
        },
        "id": "mos2v3zO32Nm",
        "outputId": "880da1b3-5801-4f74-ccee-0fa61bbe7962"
      },
      "execution_count": 19,
      "outputs": [
        {
          "output_type": "stream",
          "name": "stdout",
          "text": [
            "가위\n",
            "바위\n",
            "보\n"
          ]
        }
      ]
    },
    {
      "cell_type": "code",
      "source": [
        "person = {\n",
        "    'name':'에밀리',\n",
        "    'age':20\n",
        "}\n",
        "for item in person:\n",
        "  print(item)"
      ],
      "metadata": {
        "colab": {
          "base_uri": "https://localhost:8080/"
        },
        "id": "BIzyaVRY4BTV",
        "outputId": "304f7afa-2ead-4f17-baf6-f597bd166db1"
      },
      "execution_count": 23,
      "outputs": [
        {
          "output_type": "stream",
          "name": "stdout",
          "text": [
            "name\n",
            "age\n"
          ]
        }
      ]
    },
    {
      "cell_type": "code",
      "source": [
        "person = {\n",
        "    'name':'에밀리',\n",
        "    'age':20\n",
        "}\n",
        "for item in person:\n",
        "  print(item,person[item])"
      ],
      "metadata": {
        "colab": {
          "base_uri": "https://localhost:8080/"
        },
        "id": "6uzh2T5f5Ein",
        "outputId": "c9335c0b-a79f-49db-8af9-02b9abbfbfa8"
      },
      "execution_count": 24,
      "outputs": [
        {
          "output_type": "stream",
          "name": "stdout",
          "text": [
            "name 에밀리\n",
            "age 20\n"
          ]
        }
      ]
    },
    {
      "cell_type": "code",
      "source": [
        "# 129\n",
        "# 1\n",
        "\n",
        "for i in range(5,0,-1):\n",
        "  print(i)"
      ],
      "metadata": {
        "colab": {
          "base_uri": "https://localhost:8080/"
        },
        "id": "eJ0a3BRu5PfZ",
        "outputId": "ba0249c7-36b0-4c95-a464-0b62cf2a574c"
      },
      "execution_count": 30,
      "outputs": [
        {
          "output_type": "stream",
          "name": "stdout",
          "text": [
            "5\n",
            "4\n",
            "3\n",
            "2\n",
            "1\n"
          ]
        }
      ]
    },
    {
      "cell_type": "code",
      "source": [
        "# 2\n",
        "\n",
        "no = int(input('임의의 양수를 입력하세요 >>> '))\n",
        "sum = 0   #초기값 설정\n",
        "for i in range(1,no+1):\n",
        "  sum = sum + i # sum += i\n",
        "  print(sum)\n",
        "print(f'1부터 {no}사이 모든 정수의 합계는 {sum}입니다. ')\n"
      ],
      "metadata": {
        "colab": {
          "base_uri": "https://localhost:8080/"
        },
        "id": "T50cz9pX55pJ",
        "outputId": "002fcaad-b839-41dc-b763-e29082bd3dde"
      },
      "execution_count": 35,
      "outputs": [
        {
          "output_type": "stream",
          "name": "stdout",
          "text": [
            "임의의 양수를 입력하세요 >>> 3\n",
            "1\n",
            "3\n",
            "6\n",
            "1부터 3사이 모든 정수의 합계는 6입니다. \n"
          ]
        }
      ]
    },
    {
      "cell_type": "code",
      "source": [
        "# 3\n",
        "no = int(input('몇 개의 과일을 보관할까요?>>> '))\n",
        "fruits = []\n",
        "for i in range(1,no+1):\n",
        "  fruit = input(f'{i}번째 과일을 입력하세요 >>> ')\n",
        "  fruits.append(fruit)\n",
        "\n",
        "print(f'입력받은 과일들은 {fruits}입니다. ')"
      ],
      "metadata": {
        "colab": {
          "base_uri": "https://localhost:8080/"
        },
        "id": "W_oCZbcI7jPB",
        "outputId": "c364de1f-0f4b-4bd3-cfc1-375ddef1942c"
      },
      "execution_count": 38,
      "outputs": [
        {
          "output_type": "stream",
          "name": "stdout",
          "text": [
            "몇 개의 과일을 보관할까요?>>> 3\n",
            "1번째 과일을 입력하세요 >>> apple\n",
            "2번째 과일을 입력하세요 >>> banana\n",
            "3번째 과일을 입력하세요 >>> cherry\n",
            "입력받은 과일들은 ['apple', 'banana', 'cherry']입니다. \n"
          ]
        }
      ]
    },
    {
      "cell_type": "code",
      "source": [
        "# 4\n",
        "\n",
        "exam = [99,78,100,91,81,85,54,100,71,50]\n",
        "\n",
        "exam2 = []\n",
        "for i in exam:\n",
        "  if i >= 95:\n",
        "    exam2.append(100)\n",
        "  else:\n",
        "    exam2.append(i+5)\n",
        "    \n",
        "print(exam2)"
      ],
      "metadata": {
        "colab": {
          "base_uri": "https://localhost:8080/"
        },
        "id": "4QrN-3XmBkCx",
        "outputId": "dbb5b8d4-3d76-4642-8f7e-941c5eb9a3f7"
      },
      "execution_count": 40,
      "outputs": [
        {
          "output_type": "stream",
          "name": "stdout",
          "text": [
            "[100, 83, 100, 96, 86, 90, 59, 100, 76, 55]\n"
          ]
        }
      ]
    },
    {
      "cell_type": "code",
      "source": [
        "# break\n",
        "\n",
        "# while 문이나 for문에서 반복을 강제로 종료시킬때 사용\n",
        "\n",
        "n = 1 \n",
        "while n <= 10:\n",
        "  print(n)\n",
        "  n +=1"
      ],
      "metadata": {
        "colab": {
          "base_uri": "https://localhost:8080/"
        },
        "id": "KfSfQ0PODuV-",
        "outputId": "c0c18f68-cbd7-46aa-babd-0140f90859e7"
      },
      "execution_count": 41,
      "outputs": [
        {
          "output_type": "stream",
          "name": "stdout",
          "text": [
            "1\n",
            "2\n",
            "3\n",
            "4\n",
            "5\n",
            "6\n",
            "7\n",
            "8\n",
            "9\n",
            "10\n"
          ]
        }
      ]
    },
    {
      "cell_type": "code",
      "source": [
        "n = 1 \n",
        "while True:\n",
        "  print(n)\n",
        "  if n == 10:\n",
        "    break\n",
        "  n +=1"
      ],
      "metadata": {
        "colab": {
          "base_uri": "https://localhost:8080/"
        },
        "id": "48FqAhTuEv10",
        "outputId": "6738daa3-8a04-43c8-8cda-fa4cf973ef7b"
      },
      "execution_count": 43,
      "outputs": [
        {
          "output_type": "stream",
          "name": "stdout",
          "text": [
            "1\n",
            "2\n",
            "3\n",
            "4\n",
            "5\n",
            "6\n",
            "7\n",
            "8\n",
            "9\n",
            "10\n"
          ]
        }
      ]
    },
    {
      "cell_type": "code",
      "source": [
        "# continue\n",
        "\n",
        "# 반복 도중에 continue를 만나면 더이상 아래로 내려가지 않고 \n",
        "# 다시 반복문으로 진입한다.\n",
        "\n",
        "total = 0 \n",
        "for a in range(1,101):\n",
        "  if a % 3 == 0: #3의 배수 찾기 \n",
        "    continue     #3의 배수를 제외한 합\n",
        "  total += a\n",
        "print(total)"
      ],
      "metadata": {
        "colab": {
          "base_uri": "https://localhost:8080/"
        },
        "id": "0ptyhgIgE7rS",
        "outputId": "f0ba8256-55b6-4f70-9a48-63c46ac6e36b"
      },
      "execution_count": 45,
      "outputs": [
        {
          "output_type": "stream",
          "name": "stdout",
          "text": [
            "3367\n"
          ]
        }
      ]
    },
    {
      "cell_type": "code",
      "source": [
        "# page 141\n",
        "# 1\n",
        "\n",
        "cash = 10000\n",
        "\n",
        "while True:\n",
        "  print(f'현재 {cash}원이 있습니다.')\n",
        "  if cash == 0:\n",
        "    break\n",
        "  pay = int(input('사용할 금액입력 :>>>'))\n",
        "  if pay <= 0:\n",
        "    print('0 이하의 금액은 사용할 수 없습니다.')\n",
        "  elif pay > cash:\n",
        "    print(f'{pay - cash}원이 부족합니다.')\n",
        "  else:\n",
        "    cash -= pay # cash = cash - pay "
      ],
      "metadata": {
        "colab": {
          "base_uri": "https://localhost:8080/"
        },
        "id": "c6cmGJhrGJnW",
        "outputId": "082a3d83-5449-4927-9498-77147b87fb84"
      },
      "execution_count": 48,
      "outputs": [
        {
          "output_type": "stream",
          "name": "stdout",
          "text": [
            "현재 10000원이 있습니다.\n",
            "사용할 금액입력 :>>>5000\n",
            "현재 5000원이 있습니다.\n",
            "사용할 금액입력 :>>>-5000\n",
            "0 이하의 금액은 사용할 수 없습니다.\n",
            "현재 5000원이 있습니다.\n",
            "사용할 금액입력 :>>>6000\n",
            "1000원이 부족합니다.\n",
            "현재 5000원이 있습니다.\n",
            "사용할 금액입력 :>>>4000\n",
            "현재 1000원이 있습니다.\n",
            "사용할 금액입력 :>>>1000\n",
            "현재 0원이 있습니다.\n"
          ]
        }
      ]
    },
    {
      "cell_type": "code",
      "source": [
        "# 2\n",
        "while True:\n",
        "  score = int(input('이번 영화의 평점을 입력하세요 >>>'))\n",
        "\n",
        "  if score >= 1 and score <= 5:\n",
        "    print(f'평점 : {score * \"★\"}')\n",
        "    break\n",
        "  else:\n",
        "    print('평점은 1~5 사이만 입력할 수 있습니다.')\n",
        "\n"
      ],
      "metadata": {
        "colab": {
          "base_uri": "https://localhost:8080/"
        },
        "id": "UnbDGjbBPNsf",
        "outputId": "f000a2f7-8503-4a49-b2d0-e3049873ef6d"
      },
      "execution_count": 49,
      "outputs": [
        {
          "output_type": "stream",
          "name": "stdout",
          "text": [
            "이번 영화의 평점을 입력하세요 >>>10\n",
            "평점은 1~5 사이만 입력할 수 있습니다.\n",
            "이번 영화의 평점을 입력하세요 >>>-2\n",
            "평점은 1~5 사이만 입력할 수 있습니다.\n",
            "이번 영화의 평점을 입력하세요 >>>5\n",
            "평점 : ★★★★★\n"
          ]
        }
      ]
    },
    {
      "cell_type": "markdown",
      "source": [
        "aasd"
      ],
      "metadata": {
        "id": "vyRl4qzhTvoq"
      }
    },
    {
      "cell_type": "code",
      "source": [
        "# 3\n",
        "\n",
        "password = 'qwerty'\n",
        "tryno = 0\n",
        "while True:\n",
        "  if tryno == 5:\n",
        "    print('비밀번호 입력 횟수를 초과했습니다.')\n",
        "    break\n",
        "  inpass = input('비밀번호를 입력하세요 >>> ')\n",
        "  if password == inpass:\n",
        "    print('비밀번호를 맞혔습니다.')\n",
        "    break\n",
        "  tryno += 1\n",
        "  "
      ],
      "metadata": {
        "colab": {
          "base_uri": "https://localhost:8080/"
        },
        "id": "30Wwhjg5RG5v",
        "outputId": "c2fbe7de-5373-4415-a16f-4ddcf7d232b8"
      },
      "execution_count": 51,
      "outputs": [
        {
          "output_type": "stream",
          "name": "stdout",
          "text": [
            "비밀번호를 입력하세요 >>> sdf\n",
            "비밀번호를 입력하세요 >>> asdf\n",
            "비밀번호를 입력하세요 >>> sdf\n",
            "비밀번호를 입력하세요 >>> fdfd\n",
            "비밀번호를 입력하세요 >>> asdfsd\n",
            "비밀번호 입력 횟수를 초과했습니다.\n"
          ]
        }
      ]
    },
    {
      "cell_type": "code",
      "source": [
        "# 4\n",
        "\n",
        "# 구구단 전체 출력하기 \n",
        "for i in range(2,10):\n",
        "  for j in range(1,10):\n",
        "    print(f'{i} X {j} = {i*j}')"
      ],
      "metadata": {
        "colab": {
          "base_uri": "https://localhost:8080/"
        },
        "id": "2oa4VF-6T12v",
        "outputId": "cd7ff1da-632b-48d1-c6a4-271808cfb6f4"
      },
      "execution_count": 52,
      "outputs": [
        {
          "output_type": "stream",
          "name": "stdout",
          "text": [
            "2 X 1 = 2\n",
            "2 X 2 = 4\n",
            "2 X 3 = 6\n",
            "2 X 4 = 8\n",
            "2 X 5 = 10\n",
            "2 X 6 = 12\n",
            "2 X 7 = 14\n",
            "2 X 8 = 16\n",
            "2 X 9 = 18\n",
            "3 X 1 = 3\n",
            "3 X 2 = 6\n",
            "3 X 3 = 9\n",
            "3 X 4 = 12\n",
            "3 X 5 = 15\n",
            "3 X 6 = 18\n",
            "3 X 7 = 21\n",
            "3 X 8 = 24\n",
            "3 X 9 = 27\n",
            "4 X 1 = 4\n",
            "4 X 2 = 8\n",
            "4 X 3 = 12\n",
            "4 X 4 = 16\n",
            "4 X 5 = 20\n",
            "4 X 6 = 24\n",
            "4 X 7 = 28\n",
            "4 X 8 = 32\n",
            "4 X 9 = 36\n",
            "5 X 1 = 5\n",
            "5 X 2 = 10\n",
            "5 X 3 = 15\n",
            "5 X 4 = 20\n",
            "5 X 5 = 25\n",
            "5 X 6 = 30\n",
            "5 X 7 = 35\n",
            "5 X 8 = 40\n",
            "5 X 9 = 45\n",
            "6 X 1 = 6\n",
            "6 X 2 = 12\n",
            "6 X 3 = 18\n",
            "6 X 4 = 24\n",
            "6 X 5 = 30\n",
            "6 X 6 = 36\n",
            "6 X 7 = 42\n",
            "6 X 8 = 48\n",
            "6 X 9 = 54\n",
            "7 X 1 = 7\n",
            "7 X 2 = 14\n",
            "7 X 3 = 21\n",
            "7 X 4 = 28\n",
            "7 X 5 = 35\n",
            "7 X 6 = 42\n",
            "7 X 7 = 49\n",
            "7 X 8 = 56\n",
            "7 X 9 = 63\n",
            "8 X 1 = 8\n",
            "8 X 2 = 16\n",
            "8 X 3 = 24\n",
            "8 X 4 = 32\n",
            "8 X 5 = 40\n",
            "8 X 6 = 48\n",
            "8 X 7 = 56\n",
            "8 X 8 = 64\n",
            "8 X 9 = 72\n",
            "9 X 1 = 9\n",
            "9 X 2 = 18\n",
            "9 X 3 = 27\n",
            "9 X 4 = 36\n",
            "9 X 5 = 45\n",
            "9 X 6 = 54\n",
            "9 X 7 = 63\n",
            "9 X 8 = 72\n",
            "9 X 9 = 81\n"
          ]
        }
      ]
    },
    {
      "cell_type": "code",
      "source": [
        "# 4\n",
        "# 구구단 홀수단 전체 출력하기 \n",
        "for i in range(2,10):\n",
        "  if i % 2 == 0:\n",
        "    continue\n",
        "  for j in range(1,10):\n",
        "    print(f'{i} X {j} = {i*j}')"
      ],
      "metadata": {
        "colab": {
          "base_uri": "https://localhost:8080/"
        },
        "id": "qgPlut5NUGGq",
        "outputId": "5bf12c37-e5bd-431b-f5a9-4008b355d906"
      },
      "execution_count": 53,
      "outputs": [
        {
          "output_type": "stream",
          "name": "stdout",
          "text": [
            "3 X 1 = 3\n",
            "3 X 2 = 6\n",
            "3 X 3 = 9\n",
            "3 X 4 = 12\n",
            "3 X 5 = 15\n",
            "3 X 6 = 18\n",
            "3 X 7 = 21\n",
            "3 X 8 = 24\n",
            "3 X 9 = 27\n",
            "5 X 1 = 5\n",
            "5 X 2 = 10\n",
            "5 X 3 = 15\n",
            "5 X 4 = 20\n",
            "5 X 5 = 25\n",
            "5 X 6 = 30\n",
            "5 X 7 = 35\n",
            "5 X 8 = 40\n",
            "5 X 9 = 45\n",
            "7 X 1 = 7\n",
            "7 X 2 = 14\n",
            "7 X 3 = 21\n",
            "7 X 4 = 28\n",
            "7 X 5 = 35\n",
            "7 X 6 = 42\n",
            "7 X 7 = 49\n",
            "7 X 8 = 56\n",
            "7 X 9 = 63\n",
            "9 X 1 = 9\n",
            "9 X 2 = 18\n",
            "9 X 3 = 27\n",
            "9 X 4 = 36\n",
            "9 X 5 = 45\n",
            "9 X 6 = 54\n",
            "9 X 7 = 63\n",
            "9 X 8 = 72\n",
            "9 X 9 = 81\n"
          ]
        }
      ]
    },
    {
      "cell_type": "code",
      "source": [
        "#4\n",
        "# 각 단 까지만 출력 (교제)\n",
        "\n",
        "for i in range(2,10):\n",
        "  if i % 2 == 0:\n",
        "    continue\n",
        "  for j in range(1,10):\n",
        "    if i < j:\n",
        "      break\n",
        "    print(f'{i} X {j} = {i*j}')\n",
        "  print()"
      ],
      "metadata": {
        "colab": {
          "base_uri": "https://localhost:8080/"
        },
        "id": "R2MGqv-kWzjs",
        "outputId": "5e595650-05c9-4f1c-edc3-791b8bdc50ec"
      },
      "execution_count": 55,
      "outputs": [
        {
          "output_type": "stream",
          "name": "stdout",
          "text": [
            "3 X 1 = 3\n",
            "3 X 2 = 6\n",
            "3 X 3 = 9\n",
            "\n",
            "5 X 1 = 5\n",
            "5 X 2 = 10\n",
            "5 X 3 = 15\n",
            "5 X 4 = 20\n",
            "5 X 5 = 25\n",
            "\n",
            "7 X 1 = 7\n",
            "7 X 2 = 14\n",
            "7 X 3 = 21\n",
            "7 X 4 = 28\n",
            "7 X 5 = 35\n",
            "7 X 6 = 42\n",
            "7 X 7 = 49\n",
            "\n",
            "9 X 1 = 9\n",
            "9 X 2 = 18\n",
            "9 X 3 = 27\n",
            "9 X 4 = 36\n",
            "9 X 5 = 45\n",
            "9 X 6 = 54\n",
            "9 X 7 = 63\n",
            "9 X 8 = 72\n",
            "9 X 9 = 81\n",
            "\n"
          ]
        }
      ]
    }
  ]
}