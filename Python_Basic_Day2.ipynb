{
  "nbformat": 4,
  "nbformat_minor": 0,
  "metadata": {
    "colab": {
      "name": "Python Basic Day2.ipynb",
      "provenance": [],
      "authorship_tag": "ABX9TyM9+vZbZZVRYCMd+HL3zXnl",
      "include_colab_link": true
    },
    "kernelspec": {
      "name": "python3",
      "display_name": "Python 3"
    },
    "language_info": {
      "name": "python"
    }
  },
  "cells": [
    {
      "cell_type": "markdown",
      "metadata": {
        "id": "view-in-github",
        "colab_type": "text"
      },
      "source": [
        "<a href=\"https://colab.research.google.com/github/chryu314/pythonbasicclass/blob/main/Python_Basic_Day2.ipynb\" target=\"_parent\"><img src=\"https://colab.research.google.com/assets/colab-badge.svg\" alt=\"Open In Colab\"/></a>"
      ]
    },
    {
      "cell_type": "code",
      "execution_count": null,
      "metadata": {
        "id": "2bKKPbxO-HSH"
      },
      "outputs": [],
      "source": [
        "# 3 기본 자료형 (page 33)\n",
        "\n",
        "int 정수  1,2,3,4\n",
        "float 실수  3.14 , 2.18\n",
        "bool 논리  True,False\n",
        "str 문자열 '홍길동','슈가'\n"
      ]
    },
    {
      "cell_type": "code",
      "source": [
        "# 1. 정수  int \n",
        "\n",
        "int(1.9)\n"
      ],
      "metadata": {
        "colab": {
          "base_uri": "https://localhost:8080/"
        },
        "id": "Wt9yHKarAM_g",
        "outputId": "25273368-d061-4279-dc1c-993390465c96"
      },
      "execution_count": 3,
      "outputs": [
        {
          "output_type": "execute_result",
          "data": {
            "text/plain": [
              "1"
            ]
          },
          "metadata": {},
          "execution_count": 3
        }
      ]
    },
    {
      "cell_type": "code",
      "source": [
        "int(True)"
      ],
      "metadata": {
        "colab": {
          "base_uri": "https://localhost:8080/"
        },
        "id": "4DiUpgDlBCKt",
        "outputId": "ef00acac-1d20-4436-bb7f-34c33c8e4d6f"
      },
      "execution_count": 4,
      "outputs": [
        {
          "output_type": "execute_result",
          "data": {
            "text/plain": [
              "1"
            ]
          },
          "metadata": {},
          "execution_count": 4
        }
      ]
    },
    {
      "cell_type": "code",
      "source": [
        "int(False)"
      ],
      "metadata": {
        "colab": {
          "base_uri": "https://localhost:8080/"
        },
        "id": "Wegw8q2YBJzh",
        "outputId": "bd264b6f-fffc-4ae4-fdbc-f6709a051f18"
      },
      "execution_count": 5,
      "outputs": [
        {
          "output_type": "execute_result",
          "data": {
            "text/plain": [
              "0"
            ]
          },
          "metadata": {},
          "execution_count": 5
        }
      ]
    },
    {
      "cell_type": "code",
      "source": [
        "int('100')  \n",
        "int(\"200\")\n",
        "# 큰 따옴표 또는 작은 따옴표 안에 있는 숫자는 숫자처럼 보이지만 문자다.\n",
        "#int() 괄호안에 숫자 처럼 보이는 문자를 넣어주면 진짜 숫자로 변환된다."
      ],
      "metadata": {
        "colab": {
          "base_uri": "https://localhost:8080/"
        },
        "id": "6nxafhpJDbjj",
        "outputId": "07173f61-bcab-46a3-e525-1dcc830ecafd"
      },
      "execution_count": 8,
      "outputs": [
        {
          "output_type": "execute_result",
          "data": {
            "text/plain": [
              "200"
            ]
          },
          "metadata": {},
          "execution_count": 8
        }
      ]
    },
    {
      "cell_type": "code",
      "source": [
        "# 2. 실수 float\n",
        "float(1)"
      ],
      "metadata": {
        "colab": {
          "base_uri": "https://localhost:8080/"
        },
        "id": "ATf578y9D28X",
        "outputId": "0092c9f5-10d2-4d26-8e2f-b4d3d909658b"
      },
      "execution_count": 9,
      "outputs": [
        {
          "output_type": "execute_result",
          "data": {
            "text/plain": [
              "1.0"
            ]
          },
          "metadata": {},
          "execution_count": 9
        }
      ]
    },
    {
      "cell_type": "code",
      "source": [
        "float(True)"
      ],
      "metadata": {
        "colab": {
          "base_uri": "https://localhost:8080/"
        },
        "id": "1Q_CpBCoEkW1",
        "outputId": "faf3dd23-1f54-48c5-a519-69a6d3627194"
      },
      "execution_count": 10,
      "outputs": [
        {
          "output_type": "execute_result",
          "data": {
            "text/plain": [
              "1.0"
            ]
          },
          "metadata": {},
          "execution_count": 10
        }
      ]
    },
    {
      "cell_type": "code",
      "source": [
        "float(False)"
      ],
      "metadata": {
        "colab": {
          "base_uri": "https://localhost:8080/"
        },
        "id": "vEJTFrFDEn6D",
        "outputId": "fc820ac4-1161-4f9e-8894-ab2797650f78"
      },
      "execution_count": 11,
      "outputs": [
        {
          "output_type": "execute_result",
          "data": {
            "text/plain": [
              "0.0"
            ]
          },
          "metadata": {},
          "execution_count": 11
        }
      ]
    },
    {
      "cell_type": "code",
      "source": [
        "float('3.14')"
      ],
      "metadata": {
        "colab": {
          "base_uri": "https://localhost:8080/"
        },
        "id": "42erfYIUEt_7",
        "outputId": "751a30bf-13af-418b-bea1-e5c18263a216"
      },
      "execution_count": 12,
      "outputs": [
        {
          "output_type": "execute_result",
          "data": {
            "text/plain": [
              "3.14"
            ]
          },
          "metadata": {},
          "execution_count": 12
        }
      ]
    },
    {
      "cell_type": "code",
      "source": [
        "input('숫자를 입력하세요>>>')  # input 은 모든 입력을 문자로만 받는다."
      ],
      "metadata": {
        "colab": {
          "base_uri": "https://localhost:8080/",
          "height": 55
        },
        "id": "N-4UmuVkE0rp",
        "outputId": "43a10c1c-778a-4549-95e4-79865c65f1e8"
      },
      "execution_count": 13,
      "outputs": [
        {
          "name": "stdout",
          "output_type": "stream",
          "text": [
            "숫자를 입력하세요>>>123\n"
          ]
        },
        {
          "output_type": "execute_result",
          "data": {
            "application/vnd.google.colaboratory.intrinsic+json": {
              "type": "string"
            },
            "text/plain": [
              "'123'"
            ]
          },
          "metadata": {},
          "execution_count": 13
        }
      ]
    },
    {
      "cell_type": "code",
      "source": [
        "int(input('숫자를 입력하세요>>>'))"
      ],
      "metadata": {
        "colab": {
          "base_uri": "https://localhost:8080/"
        },
        "id": "09eWZ-x0FY25",
        "outputId": "9bcca217-ca72-4a70-aec2-986c5e4d3aa2"
      },
      "execution_count": 14,
      "outputs": [
        {
          "name": "stdout",
          "output_type": "stream",
          "text": [
            "숫자를 입력하세요>>>123\n"
          ]
        },
        {
          "output_type": "execute_result",
          "data": {
            "text/plain": [
              "123"
            ]
          },
          "metadata": {},
          "execution_count": 14
        }
      ]
    },
    {
      "cell_type": "code",
      "source": [
        "# 논리 bool, boolean True or False\n",
        "\n",
        "bool(0)"
      ],
      "metadata": {
        "colab": {
          "base_uri": "https://localhost:8080/"
        },
        "id": "kQPUshfVFzJG",
        "outputId": "280e9719-4e86-42b4-b3f2-0f09209276f4"
      },
      "execution_count": 15,
      "outputs": [
        {
          "output_type": "execute_result",
          "data": {
            "text/plain": [
              "False"
            ]
          },
          "metadata": {},
          "execution_count": 15
        }
      ]
    },
    {
      "cell_type": "code",
      "source": [
        "bool('')"
      ],
      "metadata": {
        "colab": {
          "base_uri": "https://localhost:8080/"
        },
        "id": "CPQLiHRuGN_I",
        "outputId": "42ab8f6f-d61d-4129-9cc6-20198c32751c"
      },
      "execution_count": 16,
      "outputs": [
        {
          "output_type": "execute_result",
          "data": {
            "text/plain": [
              "False"
            ]
          },
          "metadata": {},
          "execution_count": 16
        }
      ]
    },
    {
      "cell_type": "code",
      "source": [
        "bool(1)"
      ],
      "metadata": {
        "colab": {
          "base_uri": "https://localhost:8080/"
        },
        "id": "Q9qfvO29GSwE",
        "outputId": "94c30b5f-6a78-4ff9-9c78-6cce453ea632"
      },
      "execution_count": 17,
      "outputs": [
        {
          "output_type": "execute_result",
          "data": {
            "text/plain": [
              "True"
            ]
          },
          "metadata": {},
          "execution_count": 17
        }
      ]
    },
    {
      "cell_type": "code",
      "source": [
        "bool('1')"
      ],
      "metadata": {
        "colab": {
          "base_uri": "https://localhost:8080/"
        },
        "id": "4EYo7Tv_GUzt",
        "outputId": "bae84273-f031-43a1-a152-417b09e5f2f0"
      },
      "execution_count": 18,
      "outputs": [
        {
          "output_type": "execute_result",
          "data": {
            "text/plain": [
              "True"
            ]
          },
          "metadata": {},
          "execution_count": 18
        }
      ]
    },
    {
      "cell_type": "code",
      "source": [
        "bool([1,2,3])"
      ],
      "metadata": {
        "colab": {
          "base_uri": "https://localhost:8080/"
        },
        "id": "1mMVlz5SGdec",
        "outputId": "f4d2fca3-5da7-4070-ca77-1f0b0cf471a1"
      },
      "execution_count": 20,
      "outputs": [
        {
          "output_type": "execute_result",
          "data": {
            "text/plain": [
              "True"
            ]
          },
          "metadata": {},
          "execution_count": 20
        }
      ]
    },
    {
      "cell_type": "code",
      "source": [
        "# 4 문자열 str, string\n",
        "\n",
        "a = '대한\\n민국'\n",
        "print(a)\n",
        "b = \"한국\"\n",
        "\n",
        "a = '''대한\n",
        "민국'''\n",
        "b = \"\"\"대한\n",
        "민국\"\"\"\n",
        "\n",
        "print(a)"
      ],
      "metadata": {
        "colab": {
          "base_uri": "https://localhost:8080/"
        },
        "id": "_QpT3jRRGwsC",
        "outputId": "4ee6e331-5309-401c-f645-3d4a703f814e"
      },
      "execution_count": 24,
      "outputs": [
        {
          "output_type": "stream",
          "name": "stdout",
          "text": [
            "대한\n",
            "민국\n",
            "대한\n",
            "민국\n"
          ]
        }
      ]
    },
    {
      "cell_type": "code",
      "source": [
        "str(100)"
      ],
      "metadata": {
        "colab": {
          "base_uri": "https://localhost:8080/",
          "height": 36
        },
        "id": "IQp__1u_H-fV",
        "outputId": "d6001149-5009-4b99-803a-32020e945d0e"
      },
      "execution_count": 25,
      "outputs": [
        {
          "output_type": "execute_result",
          "data": {
            "application/vnd.google.colaboratory.intrinsic+json": {
              "type": "string"
            },
            "text/plain": [
              "'100'"
            ]
          },
          "metadata": {},
          "execution_count": 25
        }
      ]
    },
    {
      "cell_type": "code",
      "source": [
        "str(True)"
      ],
      "metadata": {
        "colab": {
          "base_uri": "https://localhost:8080/",
          "height": 36
        },
        "id": "KoByLUSOIGKE",
        "outputId": "70b55c12-ca59-4f7d-a8f9-1a39c7548518"
      },
      "execution_count": 26,
      "outputs": [
        {
          "output_type": "execute_result",
          "data": {
            "application/vnd.google.colaboratory.intrinsic+json": {
              "type": "string"
            },
            "text/plain": [
              "'True'"
            ]
          },
          "metadata": {},
          "execution_count": 26
        }
      ]
    },
    {
      "cell_type": "code",
      "source": [
        "str(False)"
      ],
      "metadata": {
        "colab": {
          "base_uri": "https://localhost:8080/",
          "height": 36
        },
        "id": "5M8aAxkmIZ-y",
        "outputId": "8cc4b678-ec14-4d13-caf7-0f2268265d32"
      },
      "execution_count": 29,
      "outputs": [
        {
          "output_type": "execute_result",
          "data": {
            "application/vnd.google.colaboratory.intrinsic+json": {
              "type": "string"
            },
            "text/plain": [
              "'False'"
            ]
          },
          "metadata": {},
          "execution_count": 29
        }
      ]
    },
    {
      "cell_type": "code",
      "source": [
        "str(3.14)"
      ],
      "metadata": {
        "colab": {
          "base_uri": "https://localhost:8080/",
          "height": 36
        },
        "id": "kE-E2bP7Ib17",
        "outputId": "a1388ad4-f44c-4979-9ce8-1c5828fcc9d6"
      },
      "execution_count": 30,
      "outputs": [
        {
          "output_type": "execute_result",
          "data": {
            "application/vnd.google.colaboratory.intrinsic+json": {
              "type": "string"
            },
            "text/plain": [
              "'3.14'"
            ]
          },
          "metadata": {},
          "execution_count": 30
        }
      ]
    },
    {
      "cell_type": "code",
      "source": [
        "# 문자열 인덱싱 (indexing)\n",
        "# 인덱싱은 문자열을 구성하는 모든 문자에 부여한 고유의 번호이다.\n",
        "\n",
        "s = 'hello'\n",
        "print(s[4])    # 인덱스의 시작은 0 이다.\n",
        "# h e l l o \n",
        "# 0 1 2 3 4    각 문자의 인덱스 번호\n",
        "\n"
      ],
      "metadata": {
        "colab": {
          "base_uri": "https://localhost:8080/"
        },
        "id": "xRgvw7o4IfBX",
        "outputId": "10e42e23-c4b0-4571-e673-35337c113981"
      },
      "execution_count": 33,
      "outputs": [
        {
          "output_type": "stream",
          "name": "stdout",
          "text": [
            "o\n"
          ]
        }
      ]
    },
    {
      "cell_type": "code",
      "source": [
        "# h e l l o \n",
        "#        -1\n",
        "s = 'hello'\n",
        "print(s[-1])"
      ],
      "metadata": {
        "colab": {
          "base_uri": "https://localhost:8080/"
        },
        "id": "OSt55mxiMyqU",
        "outputId": "d9465aae-ff14-401e-804a-aa87d3093d54"
      },
      "execution_count": 34,
      "outputs": [
        {
          "output_type": "stream",
          "name": "stdout",
          "text": [
            "o\n"
          ]
        }
      ]
    },
    {
      "cell_type": "code",
      "source": [
        "#  h  e  l  l  o\n",
        "# -5 -4 -3 -2 -1"
      ],
      "metadata": {
        "id": "a4FUV27mOQhE"
      },
      "execution_count": null,
      "outputs": []
    },
    {
      "cell_type": "code",
      "source": [
        "# 문자열 스라이싱 slicing \n",
        "# 문자열의 인덱스를 사용하여 한문자 이상으로 구성된 단어나 문장을 추출\n",
        "\n",
        "s ='banana'\n",
        "s[0:3]    #[start:stop]    # stop 은 까지가 아닌 미만으로 계산한다."
      ],
      "metadata": {
        "colab": {
          "base_uri": "https://localhost:8080/",
          "height": 36
        },
        "id": "o9YNd3iROknv",
        "outputId": "67dfba03-5d5b-4e02-d463-38395c66cff6"
      },
      "execution_count": 38,
      "outputs": [
        {
          "output_type": "execute_result",
          "data": {
            "application/vnd.google.colaboratory.intrinsic+json": {
              "type": "string"
            },
            "text/plain": [
              "'ban'"
            ]
          },
          "metadata": {},
          "execution_count": 38
        }
      ]
    },
    {
      "cell_type": "code",
      "source": [
        "addr = '서울시 강남구 역삼동 1번지'\n",
        "print(addr[4:7])"
      ],
      "metadata": {
        "colab": {
          "base_uri": "https://localhost:8080/"
        },
        "id": "AblkfQn3PVCh",
        "outputId": "93bab97d-32b7-4d19-c38b-fd492f34ed93"
      },
      "execution_count": 40,
      "outputs": [
        {
          "output_type": "stream",
          "name": "stdout",
          "text": [
            "강남구\n"
          ]
        }
      ]
    },
    {
      "cell_type": "code",
      "source": [
        "# 04 컬렉션 Collection \n",
        "# '여러 값을 하나의 이름으로 묶어서 관리하는 자료형'\n",
        "# 리스트 list 튜플 tuple 딕셔너리 dict 셋 set "
      ],
      "metadata": {
        "id": "tfbmo3bbPzji"
      },
      "execution_count": null,
      "outputs": []
    },
    {
      "cell_type": "code",
      "source": [
        "#  리스트 list\n",
        "#  리스트는 여러 값을 저장할때 가장 많이 사용되는 자료형이다. \n",
        "#  특징\n",
        "# 1. 대괄호로 생성한다. []\n",
        "# 2. 여러가지 자료형을 하나의 리스트로 생성할 수 있다.(?)\n",
        "# 3. mutable 한 속성을 갖는다.(수정,삭제가 가능하다.)\n",
        "# 4. indexing , slicing 이 가능하다.\n"
      ],
      "metadata": {
        "id": "9RmhtiJgREPQ"
      },
      "execution_count": 41,
      "outputs": []
    },
    {
      "cell_type": "code",
      "source": [
        "list1 = [1,2,3,4]\n",
        "list2 = [1,2,3,'대','한',True] "
      ],
      "metadata": {
        "id": "5PvatCzpRVWW"
      },
      "execution_count": 42,
      "outputs": []
    },
    {
      "cell_type": "code",
      "source": [
        "li = [100,3.14,'hello']\n",
        "\n",
        "li [2]"
      ],
      "metadata": {
        "colab": {
          "base_uri": "https://localhost:8080/",
          "height": 36
        },
        "id": "2jnlu0F_UC1G",
        "outputId": "3bc2a468-95bb-4f03-c8ad-f7d844e8f842"
      },
      "execution_count": 45,
      "outputs": [
        {
          "output_type": "execute_result",
          "data": {
            "application/vnd.google.colaboratory.intrinsic+json": {
              "type": "string"
            },
            "text/plain": [
              "'hello'"
            ]
          },
          "metadata": {},
          "execution_count": 45
        }
      ]
    },
    {
      "cell_type": "code",
      "source": [
        "li[:]   #[start:stop(미만)]"
      ],
      "metadata": {
        "colab": {
          "base_uri": "https://localhost:8080/"
        },
        "id": "VO46GJIyUcBr",
        "outputId": "955ae49a-a10e-45a8-9073-789ec26a3383"
      },
      "execution_count": 48,
      "outputs": [
        {
          "output_type": "execute_result",
          "data": {
            "text/plain": [
              "[100, 3.14, 'hello']"
            ]
          },
          "metadata": {},
          "execution_count": 48
        }
      ]
    },
    {
      "cell_type": "code",
      "source": [
        "# append() - 리스트에 데이터를 추가 \n",
        "scores = [50,40,30]   #list 수정\n",
        "scores.append(100)  # 값을 추가할때 사용하는 () 소괄호 \n",
        "scores\n",
        "\n"
      ],
      "metadata": {
        "colab": {
          "base_uri": "https://localhost:8080/"
        },
        "id": "9JBv-rVoVXPR",
        "outputId": "ce4c82ed-92ac-4560-c414-e75a180c3c31"
      },
      "execution_count": 49,
      "outputs": [
        {
          "output_type": "execute_result",
          "data": {
            "text/plain": [
              "[50, 40, 30, 100]"
            ]
          },
          "metadata": {},
          "execution_count": 49
        }
      ]
    },
    {
      "cell_type": "code",
      "source": [
        "# insert() - 리스트에 데이터를 추가 \n",
        "scores.insert(0,90)   #특정위치에 데이터를 추가 \n",
        "scores"
      ],
      "metadata": {
        "colab": {
          "base_uri": "https://localhost:8080/"
        },
        "id": "BgdRsK_gW7Xi",
        "outputId": "21edc24b-b9ce-4ead-b2af-ef0631ae8680"
      },
      "execution_count": 50,
      "outputs": [
        {
          "output_type": "execute_result",
          "data": {
            "text/plain": [
              "[90, 50, 40, 30, 100]"
            ]
          },
          "metadata": {},
          "execution_count": 50
        }
      ]
    },
    {
      "cell_type": "code",
      "source": [
        "# pop() - 리스트에서 데이터 삭제 \n",
        "scores = [50,40,30]\n",
        "scores.pop()   # pop() 괄호안에 생략하면 마지막 값을 삭제 \n",
        "scores"
      ],
      "metadata": {
        "colab": {
          "base_uri": "https://localhost:8080/"
        },
        "id": "WCWzwu9_XQsZ",
        "outputId": "81819204-9116-4c2a-f729-561a9854522b"
      },
      "execution_count": 52,
      "outputs": [
        {
          "output_type": "execute_result",
          "data": {
            "text/plain": [
              "[50, 40]"
            ]
          },
          "metadata": {},
          "execution_count": 52
        }
      ]
    },
    {
      "cell_type": "code",
      "source": [
        "scores.pop(0)\n",
        "scores"
      ],
      "metadata": {
        "colab": {
          "base_uri": "https://localhost:8080/"
        },
        "id": "QGQKKGxLahJW",
        "outputId": "190a3630-33b6-415b-977d-6cb2555c9260"
      },
      "execution_count": 53,
      "outputs": [
        {
          "output_type": "execute_result",
          "data": {
            "text/plain": [
              "[40]"
            ]
          },
          "metadata": {},
          "execution_count": 53
        }
      ]
    },
    {
      "cell_type": "code",
      "source": [
        "# 튜플 tuple\n",
        "# 저장된 값을 변경할 수 없는 리스트 \n",
        "\n",
        "\n",
        "#  특징\n",
        "# 1. 소괄호로 생성한다. () 튜플은 괄호 생략 가능\n",
        "# 2. 여러가지 자료형을 하나의 튜플로 생성할 수 있다.(?)\n",
        "# 3. immutable 한 속성을 갖는다.(수정,삭제가 불가능하다.)\n",
        "# 4. indexing , slicing 이 가능하다.\n",
        "# 5. 1개의 원소를 갖는 튜플을 생성할때는 , 쉼표를 붙인다. \n",
        "\n",
        "li = [1]\n",
        "print(li)\n",
        "print(type(li))"
      ],
      "metadata": {
        "colab": {
          "base_uri": "https://localhost:8080/"
        },
        "id": "FWz1NJk1axTm",
        "outputId": "6c82b656-37a9-4907-8dc2-714c8f5b5f83"
      },
      "execution_count": 55,
      "outputs": [
        {
          "output_type": "stream",
          "name": "stdout",
          "text": [
            "[1]\n",
            "<class 'list'>\n"
          ]
        }
      ]
    },
    {
      "cell_type": "code",
      "source": [
        "# tu = (1)\n",
        "# print(tu)\n",
        "# print(type(tu))\n",
        "\n",
        "tu = (1,)\n",
        "print(tu)\n",
        "print(type(tu))"
      ],
      "metadata": {
        "colab": {
          "base_uri": "https://localhost:8080/"
        },
        "id": "IHSkdByYcCwi",
        "outputId": "ab03c24a-eed3-4cc2-d3e0-3c3127b78185"
      },
      "execution_count": 57,
      "outputs": [
        {
          "output_type": "stream",
          "name": "stdout",
          "text": [
            "(1,)\n",
            "<class 'tuple'>\n"
          ]
        }
      ]
    },
    {
      "cell_type": "code",
      "source": [
        "tu = 1,2,3,4,5\n",
        "type(tu)"
      ],
      "metadata": {
        "colab": {
          "base_uri": "https://localhost:8080/"
        },
        "id": "vy82-1GmcwB7",
        "outputId": "e787da11-f845-4d3c-95c4-78c057f69164"
      },
      "execution_count": 59,
      "outputs": [
        {
          "output_type": "execute_result",
          "data": {
            "text/plain": [
              "tuple"
            ]
          },
          "metadata": {},
          "execution_count": 59
        }
      ]
    },
    {
      "cell_type": "code",
      "source": [
        "tu.append(6)  # 수정불가"
      ],
      "metadata": {
        "colab": {
          "base_uri": "https://localhost:8080/",
          "height": 176
        },
        "id": "V8QJUSp3c8yR",
        "outputId": "53ca38ab-724c-4825-f859-00c18ed238b9"
      },
      "execution_count": 60,
      "outputs": [
        {
          "output_type": "error",
          "ename": "AttributeError",
          "evalue": "ignored",
          "traceback": [
            "\u001b[0;31m---------------------------------------------------------------------------\u001b[0m",
            "\u001b[0;31mAttributeError\u001b[0m                            Traceback (most recent call last)",
            "\u001b[0;32m<ipython-input-60-5346a898c5e0>\u001b[0m in \u001b[0;36m<module>\u001b[0;34m()\u001b[0m\n\u001b[0;32m----> 1\u001b[0;31m \u001b[0mtu\u001b[0m\u001b[0;34m.\u001b[0m\u001b[0mappend\u001b[0m\u001b[0;34m(\u001b[0m\u001b[0;36m6\u001b[0m\u001b[0;34m)\u001b[0m\u001b[0;34m\u001b[0m\u001b[0;34m\u001b[0m\u001b[0m\n\u001b[0m",
            "\u001b[0;31mAttributeError\u001b[0m: 'tuple' object has no attribute 'append'"
          ]
        }
      ]
    },
    {
      "cell_type": "code",
      "source": [
        "tu.pop()   #삭제불가"
      ],
      "metadata": {
        "colab": {
          "base_uri": "https://localhost:8080/",
          "height": 176
        },
        "id": "b7YCjlRHdDYL",
        "outputId": "327873d6-fc92-4f4b-b21a-dff543877a61"
      },
      "execution_count": 61,
      "outputs": [
        {
          "output_type": "error",
          "ename": "AttributeError",
          "evalue": "ignored",
          "traceback": [
            "\u001b[0;31m---------------------------------------------------------------------------\u001b[0m",
            "\u001b[0;31mAttributeError\u001b[0m                            Traceback (most recent call last)",
            "\u001b[0;32m<ipython-input-61-e7fa926581ef>\u001b[0m in \u001b[0;36m<module>\u001b[0;34m()\u001b[0m\n\u001b[0;32m----> 1\u001b[0;31m \u001b[0mtu\u001b[0m\u001b[0;34m.\u001b[0m\u001b[0mpop\u001b[0m\u001b[0;34m(\u001b[0m\u001b[0;34m)\u001b[0m\u001b[0;34m\u001b[0m\u001b[0;34m\u001b[0m\u001b[0m\n\u001b[0m",
            "\u001b[0;31mAttributeError\u001b[0m: 'tuple' object has no attribute 'pop'"
          ]
        }
      ]
    },
    {
      "cell_type": "code",
      "source": [
        "tu = 1,2,3,4,5\n",
        "tu[0]"
      ],
      "metadata": {
        "colab": {
          "base_uri": "https://localhost:8080/"
        },
        "id": "KMtoy0K4daZZ",
        "outputId": "dd6644d4-69e1-4f40-9d86-f1f2b0e7b76d"
      },
      "execution_count": 62,
      "outputs": [
        {
          "output_type": "execute_result",
          "data": {
            "text/plain": [
              "1"
            ]
          },
          "metadata": {},
          "execution_count": 62
        }
      ]
    },
    {
      "cell_type": "code",
      "source": [
        "tu[0:3]"
      ],
      "metadata": {
        "colab": {
          "base_uri": "https://localhost:8080/"
        },
        "id": "K4ud-I5ldfMv",
        "outputId": "e09757ea-6b62-4682-b24d-12e164730046"
      },
      "execution_count": 64,
      "outputs": [
        {
          "output_type": "execute_result",
          "data": {
            "text/plain": [
              "(1, 2, 3)"
            ]
          },
          "metadata": {},
          "execution_count": 64
        }
      ]
    },
    {
      "cell_type": "code",
      "source": [
        "# Set 셋\n",
        "\n",
        "\n",
        "#  특징\n",
        "# 1. 중괄호로 생성한다.{}\n",
        "# 2. 여러가지 자료형을 하나의 셋로 생성할 수 있다.(?)\n",
        "# 3. mutable 한 속성을 갖는다.(수정,삭제가 가능하다.)\n",
        "# 4. indexing , slicing 이 불가능하다. 순서가 없다.\n",
        "# 5. 중복된 데이터를 함께 저장할 수 없다. (중복 불가능)\n",
        "\n",
        "set = {1,1,1,2,2,3}\n",
        "set"
      ],
      "metadata": {
        "colab": {
          "base_uri": "https://localhost:8080/"
        },
        "id": "MSQjkyuGduqX",
        "outputId": "2e7ad337-5fe7-44fd-d9af-c20cc320499a"
      },
      "execution_count": 66,
      "outputs": [
        {
          "output_type": "execute_result",
          "data": {
            "text/plain": [
              "{1, 2, 3}"
            ]
          },
          "metadata": {},
          "execution_count": 66
        }
      ]
    },
    {
      "cell_type": "code",
      "source": [
        "set.add(4)\n",
        "set"
      ],
      "metadata": {
        "colab": {
          "base_uri": "https://localhost:8080/"
        },
        "id": "b7BMjzP7fqm-",
        "outputId": "a28a9d83-c5f0-4f1b-cc20-e8e3c375d950"
      },
      "execution_count": 67,
      "outputs": [
        {
          "output_type": "execute_result",
          "data": {
            "text/plain": [
              "{1, 2, 3, 4}"
            ]
          },
          "metadata": {},
          "execution_count": 67
        }
      ]
    },
    {
      "cell_type": "code",
      "source": [
        "set.remove(3)\n",
        "set"
      ],
      "metadata": {
        "colab": {
          "base_uri": "https://localhost:8080/"
        },
        "id": "o9_Xkb_sfvO9",
        "outputId": "2d51f47c-d4f7-446b-b499-870595a982a9"
      },
      "execution_count": 68,
      "outputs": [
        {
          "output_type": "execute_result",
          "data": {
            "text/plain": [
              "{1, 2, 4}"
            ]
          },
          "metadata": {},
          "execution_count": 68
        }
      ]
    },
    {
      "cell_type": "code",
      "source": [
        "# dict 딕셔너리 키값과 밸류값의 쌍으로 데이터를 저장하는 자료형\n",
        "# 자바에서의 map, JS 에서의 json 과 유사한 파이썬의 자료형 \n",
        "\n",
        "#  특징\n",
        "# 1. 중괄호로 생성한다. {}\n",
        "# 2. 여러가지 자료형을 하나의 딕셔너리로 생성할 수 있다.(?)\n",
        "# 3. mutable 한 속성을 갖는다.(수정,삭제가 가능하다.)\n",
        "# 4. indexing , slicing 이 불가능하다. 순서가 없다.\n",
        "# 5. 키와 밸류로 구성한다. \n",
        "\n",
        "dict = {'name':'홍길동','age':24}\n",
        "\n",
        "d = {'a':'apple','b':'banana'}\n",
        "d['b']"
      ],
      "metadata": {
        "colab": {
          "base_uri": "https://localhost:8080/",
          "height": 36
        },
        "id": "3N3hd0l_gQGI",
        "outputId": "d52e27c0-5815-4661-a9b1-1affa3aa8742"
      },
      "execution_count": 71,
      "outputs": [
        {
          "output_type": "execute_result",
          "data": {
            "application/vnd.google.colaboratory.intrinsic+json": {
              "type": "string"
            },
            "text/plain": [
              "'banana'"
            ]
          },
          "metadata": {},
          "execution_count": 71
        }
      ]
    },
    {
      "cell_type": "code",
      "source": [
        "d['c'] = 'cherry' #추가\n",
        "d"
      ],
      "metadata": {
        "colab": {
          "base_uri": "https://localhost:8080/"
        },
        "id": "JsqTOU0viODL",
        "outputId": "5ad9ee22-91c8-4184-c985-0c9de8732ddd"
      },
      "execution_count": 72,
      "outputs": [
        {
          "output_type": "execute_result",
          "data": {
            "text/plain": [
              "{'a': 'apple', 'b': 'banana', 'c': 'cherry'}"
            ]
          },
          "metadata": {},
          "execution_count": 72
        }
      ]
    },
    {
      "cell_type": "code",
      "source": [
        "d['c'] = '체리' #수정\n",
        "d"
      ],
      "metadata": {
        "colab": {
          "base_uri": "https://localhost:8080/"
        },
        "id": "GonuAmgbimSV",
        "outputId": "38a30f5c-cad3-4535-e78e-65546f44218e"
      },
      "execution_count": 73,
      "outputs": [
        {
          "output_type": "execute_result",
          "data": {
            "text/plain": [
              "{'a': 'apple', 'b': 'banana', 'c': '체리'}"
            ]
          },
          "metadata": {},
          "execution_count": 73
        }
      ]
    },
    {
      "cell_type": "code",
      "source": [
        "d.pop('c')  # 삭제\n",
        "d"
      ],
      "metadata": {
        "colab": {
          "base_uri": "https://localhost:8080/"
        },
        "id": "psmOpn_qiuX_",
        "outputId": "669a3815-fbb2-44aa-e3df-ae29d4dd6686"
      },
      "execution_count": 74,
      "outputs": [
        {
          "output_type": "execute_result",
          "data": {
            "text/plain": [
              "{'a': 'apple', 'b': 'banana'}"
            ]
          },
          "metadata": {},
          "execution_count": 74
        }
      ]
    },
    {
      "cell_type": "code",
      "source": [
        "# mutable : 리스트 셋 딕셔너리 (수정삭제가능)\n",
        "# immutable : 튜플 (정수 실수 문자열) (수정삭제불가능)\n",
        "\n",
        "me = [1,2,3]\n",
        "id(me)  #실제 데이터가 저장된 메모리 위치\n"
      ],
      "metadata": {
        "colab": {
          "base_uri": "https://localhost:8080/"
        },
        "id": "-NWoiKQZi_T5",
        "outputId": "f360d9ed-8e8c-4a2f-9de5-bea4e3a4a1bf"
      },
      "execution_count": 76,
      "outputs": [
        {
          "output_type": "execute_result",
          "data": {
            "text/plain": [
              "140207731637696"
            ]
          },
          "metadata": {},
          "execution_count": 76
        }
      ]
    },
    {
      "cell_type": "code",
      "source": [
        "me.append(4)\n",
        "id(me)    #메모리의 실제 주소가 바뀌지 않았다."
      ],
      "metadata": {
        "colab": {
          "base_uri": "https://localhost:8080/"
        },
        "id": "ywM2pxYxjtaW",
        "outputId": "9a7763dc-d6f1-4bab-af5a-24815f400fb4"
      },
      "execution_count": 77,
      "outputs": [
        {
          "output_type": "execute_result",
          "data": {
            "text/plain": [
              "140207731637696"
            ]
          },
          "metadata": {},
          "execution_count": 77
        }
      ]
    },
    {
      "cell_type": "code",
      "source": [
        "me"
      ],
      "metadata": {
        "colab": {
          "base_uri": "https://localhost:8080/"
        },
        "id": "Y1G1j2Bkj1nj",
        "outputId": "606212e8-2af1-49b7-b772-d11b8881a35c"
      },
      "execution_count": 78,
      "outputs": [
        {
          "output_type": "execute_result",
          "data": {
            "text/plain": [
              "[1, 2, 3, 4]"
            ]
          },
          "metadata": {},
          "execution_count": 78
        }
      ]
    },
    {
      "cell_type": "code",
      "source": [
        "# immutable\n",
        "me = 10 \n",
        "id(me)\n"
      ],
      "metadata": {
        "colab": {
          "base_uri": "https://localhost:8080/"
        },
        "id": "BuWQ7oNdkDL0",
        "outputId": "90d76d04-85fc-4acf-b120-2600f1a87978"
      },
      "execution_count": 81,
      "outputs": [
        {
          "output_type": "execute_result",
          "data": {
            "text/plain": [
              "94670270139168"
            ]
          },
          "metadata": {},
          "execution_count": 81
        }
      ]
    },
    {
      "cell_type": "code",
      "source": [
        "me += 1 # me = me + 1  (자바)me++\n",
        "id(me)  # 메모리의 주소가 바뀐것을 확인할 수 있다.\n"
      ],
      "metadata": {
        "colab": {
          "base_uri": "https://localhost:8080/"
        },
        "id": "9uaNE3DbkP3G",
        "outputId": "a3b38196-03e9-4e0b-9ca1-3fd8505b524e"
      },
      "execution_count": 82,
      "outputs": [
        {
          "output_type": "execute_result",
          "data": {
            "text/plain": [
              "94670270139200"
            ]
          },
          "metadata": {},
          "execution_count": 82
        }
      ]
    }
  ]
}