{
  "nbformat": 4,
  "nbformat_minor": 0,
  "metadata": {
    "colab": {
      "name": "Python Basic Day9.ipynb",
      "provenance": [],
      "authorship_tag": "ABX9TyO+5S6shPJ3M9Y3WtvNO/9s",
      "include_colab_link": true
    },
    "kernelspec": {
      "name": "python3",
      "display_name": "Python 3"
    },
    "language_info": {
      "name": "python"
    }
  },
  "cells": [
    {
      "cell_type": "markdown",
      "metadata": {
        "id": "view-in-github",
        "colab_type": "text"
      },
      "source": [
        "<a href=\"https://colab.research.google.com/github/chryu314/pythonbasicclass/blob/main/Python_Basic_Day9.ipynb\" target=\"_parent\"><img src=\"https://colab.research.google.com/assets/colab-badge.svg\" alt=\"Open In Colab\"/></a>"
      ]
    },
    {
      "cell_type": "code",
      "execution_count": null,
      "metadata": {
        "id": "ki6FA10eWkkr"
      },
      "outputs": [],
      "source": [
        "# 클래스  class  객체 object\n",
        "# c언어에는 클래스가 없다 <- 클래스가 필수는 아니다. "
      ]
    },
    {
      "cell_type": "code",
      "source": [
        "result1 = 0\n",
        "\n",
        "def add1(num):\n",
        "  global result1  # 전역변수\n",
        "  result1 += num\n",
        "  return result1\n",
        "\n",
        "result2 = 0\n",
        "\n",
        "def add2(num):\n",
        "  global result2  # 전역변수\n",
        "  result2 += num\n",
        "  return result2\n",
        "\n",
        "\n",
        "print(add1(3))\n",
        "print(add1(4))\n",
        "\n",
        "print(add2(2))\n",
        "print(add2(5))"
      ],
      "metadata": {
        "colab": {
          "base_uri": "https://localhost:8080/"
        },
        "id": "ipAz8SVKWssi",
        "outputId": "c32b4739-0312-4055-a186-57733e79d2f1"
      },
      "execution_count": 14,
      "outputs": [
        {
          "output_type": "stream",
          "name": "stdout",
          "text": [
            "3\n",
            "7\n",
            "2\n",
            "7\n"
          ]
        }
      ]
    },
    {
      "cell_type": "code",
      "source": [
        "print(add1(3))\n",
        "print(add2(5))"
      ],
      "metadata": {
        "colab": {
          "base_uri": "https://localhost:8080/"
        },
        "id": "tBPQCARBWvEv",
        "outputId": "221b0784-c330-4049-82a1-6f8b5ec435eb"
      },
      "execution_count": 15,
      "outputs": [
        {
          "output_type": "stream",
          "name": "stdout",
          "text": [
            "10\n",
            "12\n"
          ]
        }
      ]
    },
    {
      "cell_type": "code",
      "source": [
        "class Calculator:\n",
        "  def __init__(self):   # __init__  생성자는 객체를 생성할때 자동으로 호출 \n",
        "    self.result = 0\n",
        "  def add(self, num):   # self 는 호출한 그 객체를 말한다. \n",
        "    self.result += num\n",
        "    return self.result  # self 는 호출한 그 객체를 말한다. \n",
        "\n",
        "\n",
        "cal1 = Calculator()\n",
        "cal2 = Calculator()"
      ],
      "metadata": {
        "id": "w82HQ9KfWwbS"
      },
      "execution_count": 16,
      "outputs": []
    },
    {
      "cell_type": "code",
      "source": [
        "cal1.add(2)"
      ],
      "metadata": {
        "colab": {
          "base_uri": "https://localhost:8080/"
        },
        "id": "JP3wnpW_WyId",
        "outputId": "3b8009ac-6ea2-45e6-fd73-67454b1c2b05"
      },
      "execution_count": 17,
      "outputs": [
        {
          "output_type": "execute_result",
          "data": {
            "text/plain": [
              "2"
            ]
          },
          "metadata": {},
          "execution_count": 17
        }
      ]
    },
    {
      "cell_type": "code",
      "source": [
        "cal2.add(2)"
      ],
      "metadata": {
        "colab": {
          "base_uri": "https://localhost:8080/"
        },
        "id": "toc9hOvLWy_y",
        "outputId": "80eda5e1-0445-46ba-9a59-3c68b9663054"
      },
      "execution_count": 18,
      "outputs": [
        {
          "output_type": "execute_result",
          "data": {
            "text/plain": [
              "2"
            ]
          },
          "metadata": {},
          "execution_count": 18
        }
      ]
    },
    {
      "cell_type": "code",
      "source": [
        "class FourCal:\n",
        "  def setdata(self, first, second):  # self = a(객체의이름), first = 4, second = 2\n",
        "    self.first = first   # a.first = 4\n",
        "    self.second = second # a.second = 2"
      ],
      "metadata": {
        "id": "MefAPsgBW0VA"
      },
      "execution_count": 11,
      "outputs": []
    },
    {
      "cell_type": "code",
      "source": [
        "a = FourCal()\n",
        "b = FourCal()"
      ],
      "metadata": {
        "id": "44W8LkG-W1X-"
      },
      "execution_count": 9,
      "outputs": []
    },
    {
      "cell_type": "code",
      "source": [
        "a.setdata(4,2)\n",
        "b.setdata(3,5)"
      ],
      "metadata": {
        "id": "et7rGfxmW2U3"
      },
      "execution_count": 10,
      "outputs": []
    },
    {
      "cell_type": "code",
      "source": [
        "print(a.first)\n",
        "print(a.second)\n",
        "print(b.first)\n",
        "print(b.second)"
      ],
      "metadata": {
        "colab": {
          "base_uri": "https://localhost:8080/"
        },
        "id": "0p1qsF9wW3Lq",
        "outputId": "40864692-3cd0-4b09-c7e6-962298eb7091"
      },
      "execution_count": 8,
      "outputs": [
        {
          "output_type": "stream",
          "name": "stdout",
          "text": [
            "4\n",
            "2\n",
            "3\n",
            "5\n"
          ]
        }
      ]
    },
    {
      "cell_type": "code",
      "source": [
        "class FourCal:\n",
        "  def setdata(self, first, second):  # self = a(객체의이름), first = 4, second = 2\n",
        "    self.first = first   # a.first = 4\n",
        "    self.second = second # a.second = 2\n",
        "\n",
        "  def add(self):\n",
        "    result = self.first + self.second\n",
        "    return result"
      ],
      "metadata": {
        "id": "EjoV_3XVXDsz"
      },
      "execution_count": 6,
      "outputs": []
    },
    {
      "cell_type": "code",
      "source": [
        "a = FourCal()\n",
        "a.setdata(4,2)\n",
        "print(a.first)\n",
        "print(a.second)"
      ],
      "metadata": {
        "colab": {
          "base_uri": "https://localhost:8080/"
        },
        "id": "pFldaWM6XFdH",
        "outputId": "995fa53b-3b7e-4fb1-a404-d09767124488"
      },
      "execution_count": 5,
      "outputs": [
        {
          "output_type": "stream",
          "name": "stdout",
          "text": [
            "4\n",
            "2\n"
          ]
        }
      ]
    },
    {
      "cell_type": "code",
      "source": [
        "print(a.add())"
      ],
      "metadata": {
        "colab": {
          "base_uri": "https://localhost:8080/"
        },
        "id": "bS1RrqoxXHeZ",
        "outputId": "b25449cf-c63d-4652-ba31-68f9abc7e72d"
      },
      "execution_count": 19,
      "outputs": [
        {
          "output_type": "stream",
          "name": "stdout",
          "text": [
            "6\n"
          ]
        }
      ]
    },
    {
      "cell_type": "code",
      "source": [
        "b = FourCal()\n",
        "b.setdata(3,5)\n",
        "print(b.first)\n",
        "print(b.second)\n",
        "print(b.add())"
      ],
      "metadata": {
        "colab": {
          "base_uri": "https://localhost:8080/"
        },
        "id": "umaF8PeSXH9f",
        "outputId": "811b9b29-8dba-4d9a-9f89-921c46c18f61"
      },
      "execution_count": 3,
      "outputs": [
        {
          "output_type": "stream",
          "name": "stdout",
          "text": [
            "3\n",
            "5\n",
            "8\n"
          ]
        }
      ]
    },
    {
      "cell_type": "code",
      "source": [
        "class FourCal:\n",
        "  def __init__(self,first, second):\n",
        "    self.first = first\n",
        "    self.second = second\n",
        "    \n",
        "  def setdata(self, first, second):  # self = a(객체의이름), first = 4, second = 2\n",
        "    self.first = first   # a.first = 4\n",
        "    self.second = second # a.second = 2\n",
        "\n",
        "  def add(self):\n",
        "    result = self.first + self.second\n",
        "    return result\n",
        "\n",
        "  def mul(self):\n",
        "    result = self.first * self.second\n",
        "    return result\n",
        "\n",
        "  def sub(self):\n",
        "    result = self.first - self.second\n",
        "    return result\n",
        "\n",
        "  def div(self):\n",
        "    result = self.first / self.second\n",
        "    return result\n"
      ],
      "metadata": {
        "id": "u8A1wc7iXX4C"
      },
      "execution_count": 24,
      "outputs": []
    },
    {
      "cell_type": "code",
      "source": [
        "c  = FourCal()\n",
        "c.setdata(1,2)\n",
        "print(c.add())\n",
        "print(c.mul())\n",
        "print(c.sub())"
      ],
      "metadata": {
        "colab": {
          "base_uri": "https://localhost:8080/"
        },
        "id": "Aftxfyk5Xa4q",
        "outputId": "13736305-2d01-45bd-d288-59a855b409af"
      },
      "execution_count": 23,
      "outputs": [
        {
          "output_type": "stream",
          "name": "stdout",
          "text": [
            "3\n",
            "2\n",
            "-1\n"
          ]
        }
      ]
    },
    {
      "cell_type": "code",
      "source": [
        "# 생성자     __init__  Constructor"
      ],
      "metadata": {
        "id": "rrpBxjnwXlfS"
      },
      "execution_count": null,
      "outputs": []
    },
    {
      "cell_type": "code",
      "source": [
        "d = FourCal(1,2)\n",
        "print(d.add())\n",
        "print(d.mul())\n",
        "print(d.div())"
      ],
      "metadata": {
        "colab": {
          "base_uri": "https://localhost:8080/"
        },
        "id": "5Zd3FlEzYKQq",
        "outputId": "862d7fcf-b616-4bed-9ab3-17ce0ce5fd4d"
      },
      "execution_count": 28,
      "outputs": [
        {
          "output_type": "stream",
          "name": "stdout",
          "text": [
            "3\n",
            "2\n",
            "0.5\n"
          ]
        }
      ]
    },
    {
      "cell_type": "code",
      "source": [
        "# 상속 ingeritance\n",
        "# 어떤 클래스를 만들때 다른 클래스의 기능을 물려받을 수 있는 기능\n",
        "# 보통 상속은 기존 클래스를 변경하지 않고 기능을 추가하거나 \n",
        "# 기존 기능을 변경하려고 할때 사용된다.\n",
        "\n"
      ],
      "metadata": {
        "id": "BuEOBbKgYyoX"
      },
      "execution_count": null,
      "outputs": []
    },
    {
      "cell_type": "code",
      "source": [
        "class MoreFourCal(FourCal):\n",
        "  def pow(self):\n",
        "    result = self.first ** self.second\n",
        "    return result\n",
        "\n",
        "e = MoreFourCal(3,2)"
      ],
      "metadata": {
        "id": "VHhVRFKmYcc_"
      },
      "execution_count": 35,
      "outputs": []
    },
    {
      "cell_type": "code",
      "source": [
        "print(e.add())\n",
        "print(e.pow())"
      ],
      "metadata": {
        "colab": {
          "base_uri": "https://localhost:8080/"
        },
        "id": "03nOewwKa5-g",
        "outputId": "4727409c-f68d-491e-c62d-e40c96b9510a"
      },
      "execution_count": 33,
      "outputs": [
        {
          "output_type": "stream",
          "name": "stdout",
          "text": [
            "5\n",
            "9\n"
          ]
        }
      ]
    },
    {
      "cell_type": "code",
      "source": [
        "# 매서드 오버라이딩 mathod overriding\n",
        "\n",
        "a = FourCal(4,0) #부모 클래스 인 FourCal로 a라는 객체를 생성했다.\n",
        "a.div()  # 0으로 나누면 에러가 발생을 한다.\n"
      ],
      "metadata": {
        "colab": {
          "base_uri": "https://localhost:8080/",
          "height": 325
        },
        "id": "yHatCAWQbJSa",
        "outputId": "277ec2bd-9592-48a9-dc77-17b07ed74826"
      },
      "execution_count": 41,
      "outputs": [
        {
          "output_type": "error",
          "ename": "ZeroDivisionError",
          "evalue": "ignored",
          "traceback": [
            "\u001b[0;31m---------------------------------------------------------------------------\u001b[0m",
            "\u001b[0;31mZeroDivisionError\u001b[0m                         Traceback (most recent call last)",
            "\u001b[0;32m<ipython-input-41-a4e2398e2429>\u001b[0m in \u001b[0;36m<module>\u001b[0;34m()\u001b[0m\n\u001b[1;32m      2\u001b[0m \u001b[0;34m\u001b[0m\u001b[0m\n\u001b[1;32m      3\u001b[0m \u001b[0ma\u001b[0m \u001b[0;34m=\u001b[0m \u001b[0mFourCal\u001b[0m\u001b[0;34m(\u001b[0m\u001b[0;36m4\u001b[0m\u001b[0;34m,\u001b[0m\u001b[0;36m0\u001b[0m\u001b[0;34m)\u001b[0m \u001b[0;31m#부모 클래스 인 FourCal로 a라는 객체를 생성했다.\u001b[0m\u001b[0;34m\u001b[0m\u001b[0;34m\u001b[0m\u001b[0m\n\u001b[0;32m----> 4\u001b[0;31m \u001b[0ma\u001b[0m\u001b[0;34m.\u001b[0m\u001b[0mdiv\u001b[0m\u001b[0;34m(\u001b[0m\u001b[0;34m)\u001b[0m  \u001b[0;31m# 0으로 나누면 에러가 발생을 한다.\u001b[0m\u001b[0;34m\u001b[0m\u001b[0;34m\u001b[0m\u001b[0m\n\u001b[0m",
            "\u001b[0;32m<ipython-input-24-c60fa9b4a354>\u001b[0m in \u001b[0;36mdiv\u001b[0;34m(self)\u001b[0m\n\u001b[1;32m     21\u001b[0m \u001b[0;34m\u001b[0m\u001b[0m\n\u001b[1;32m     22\u001b[0m   \u001b[0;32mdef\u001b[0m \u001b[0mdiv\u001b[0m\u001b[0;34m(\u001b[0m\u001b[0mself\u001b[0m\u001b[0;34m)\u001b[0m\u001b[0;34m:\u001b[0m\u001b[0;34m\u001b[0m\u001b[0;34m\u001b[0m\u001b[0m\n\u001b[0;32m---> 23\u001b[0;31m     \u001b[0mresult\u001b[0m \u001b[0;34m=\u001b[0m \u001b[0mself\u001b[0m\u001b[0;34m.\u001b[0m\u001b[0mfirst\u001b[0m \u001b[0;34m/\u001b[0m \u001b[0mself\u001b[0m\u001b[0;34m.\u001b[0m\u001b[0msecond\u001b[0m\u001b[0;34m\u001b[0m\u001b[0;34m\u001b[0m\u001b[0m\n\u001b[0m\u001b[1;32m     24\u001b[0m     \u001b[0;32mreturn\u001b[0m \u001b[0mresult\u001b[0m\u001b[0;34m\u001b[0m\u001b[0;34m\u001b[0m\u001b[0m\n",
            "\u001b[0;31mZeroDivisionError\u001b[0m: division by zero"
          ]
        }
      ]
    },
    {
      "cell_type": "code",
      "source": [
        "class SafeFourCal(FourCal):\n",
        "  def div(self):\n",
        "    if self.second == 0:\n",
        "      return 0\n",
        "    else:\n",
        "      return self.first / self.second\n",
        "    \n",
        "f = SafeFourCal(4,0)\n",
        "f.div()"
      ],
      "metadata": {
        "colab": {
          "base_uri": "https://localhost:8080/"
        },
        "id": "fZrtgiVibusa",
        "outputId": "a57c938c-c4c1-4314-af8c-1d21150b6497"
      },
      "execution_count": 40,
      "outputs": [
        {
          "output_type": "execute_result",
          "data": {
            "text/plain": [
              "0"
            ]
          },
          "metadata": {},
          "execution_count": 40
        }
      ]
    },
    {
      "cell_type": "code",
      "source": [
        "# 클래스 변수 \n",
        "\n",
        "# 객체변수는 다른 객체들에 영향을 받지 않고 독립적으로 그 값을 유지한다는\n",
        "# 것이 중요하다.\n",
        "# 클래스 변수는 객체 생성 없이도 사용할 수 있다.\n",
        "# 실무에서는 클래스 변수보다는 객체 변수를 사용하는 비율이 훨씬 높다.\n",
        "\n",
        "class Family:\n",
        "  lastname = \"김\" # 클래스 변수 선언\n",
        "\n",
        "Family.lastname"
      ],
      "metadata": {
        "colab": {
          "base_uri": "https://localhost:8080/",
          "height": 36
        },
        "id": "QF64YeJVdImj",
        "outputId": "0f88f1b6-c031-472b-8e32-5895f669fbef"
      },
      "execution_count": 42,
      "outputs": [
        {
          "output_type": "execute_result",
          "data": {
            "application/vnd.google.colaboratory.intrinsic+json": {
              "type": "string"
            },
            "text/plain": [
              "'김'"
            ]
          },
          "metadata": {},
          "execution_count": 42
        }
      ]
    },
    {
      "cell_type": "code",
      "source": [
        "a = Family()\n",
        "b = Family()\n",
        "print(a.lastname)\n",
        "print(b.lastname)"
      ],
      "metadata": {
        "colab": {
          "base_uri": "https://localhost:8080/"
        },
        "id": "zg7fGJmneRbX",
        "outputId": "3223b129-9c30-4408-86d3-ef62abd0976d"
      },
      "execution_count": 43,
      "outputs": [
        {
          "output_type": "stream",
          "name": "stdout",
          "text": [
            "김\n",
            "김\n"
          ]
        }
      ]
    },
    {
      "cell_type": "code",
      "source": [
        "Family.lastname = \"박\""
      ],
      "metadata": {
        "id": "7ZAJEWfvehHM"
      },
      "execution_count": 44,
      "outputs": []
    },
    {
      "cell_type": "code",
      "source": [
        "print(a.lastname)\n",
        "print(b.lastname)"
      ],
      "metadata": {
        "colab": {
          "base_uri": "https://localhost:8080/"
        },
        "id": "JBgejvrDfOLA",
        "outputId": "f4699c9d-e8be-4b6a-a418-34278153b927"
      },
      "execution_count": 45,
      "outputs": [
        {
          "output_type": "stream",
          "name": "stdout",
          "text": [
            "박\n",
            "박\n"
          ]
        }
      ]
    },
    {
      "cell_type": "code",
      "source": [
        "class Book:\n",
        "  def print_info(self):\n",
        "    print(f'책 제목: {self.bookn}')\n",
        "    print(f'책 저자: {self.booka}')\n",
        "  \n",
        "  def set_info(self, bookn, booka):\n",
        "    self.bookn = bookn\n",
        "    self.booka = booka\n",
        "\n",
        "book1 = Book()\n",
        "book2 = Book()\n",
        "\n",
        "book1.set_info('파이썬','민경태')\n",
        "book2.set_info('어린왕자','생택쥐배리')\n",
        "\n",
        "book1.print_info()\n",
        "book2.print_info()"
      ],
      "metadata": {
        "colab": {
          "base_uri": "https://localhost:8080/"
        },
        "id": "kK_I7wrMhGYr",
        "outputId": "74f4024d-c76e-4d50-fa81-54f21760d9c6"
      },
      "execution_count": 47,
      "outputs": [
        {
          "output_type": "stream",
          "name": "stdout",
          "text": [
            "책 제목: 파이썬\n",
            "책 저자: 민경태\n",
            "책 제목: 어린왕자\n",
            "책 저자: 생택쥐배리\n"
          ]
        }
      ]
    },
    {
      "cell_type": "code",
      "source": [
        "# 예외 처리 Exception \n",
        "\n",
        "a = int(input('제수를 입력하세요'))\n",
        "b = int(input('피제수를 입력하세요'))\n",
        "\n",
        "if b == 0:\n",
        "  print('0으로 나누는 것은 불가능합니다.')\n",
        "else:\n",
        "  print(a/b)"
      ],
      "metadata": {
        "colab": {
          "base_uri": "https://localhost:8080/"
        },
        "id": "0T6qwjNBlXZQ",
        "outputId": "89ffafc5-cb96-4d4c-880c-66dcf06a03a2"
      },
      "execution_count": 50,
      "outputs": [
        {
          "output_type": "stream",
          "name": "stdout",
          "text": [
            "제수를 입력하세요2\n",
            "피제수를 입력하세요0\n",
            "0으로 나누는 것은 불가능합니다.\n"
          ]
        }
      ]
    },
    {
      "cell_type": "code",
      "source": [
        "try:\n",
        "  a = int(input('제수를 입력하세요'))\n",
        "  b = int(input('피제수를 입력하세요'))\n",
        "  print(a/b)\n",
        "except:\n",
        "  print('0으로 나누는 것은 불가능합니다.')\n"
      ],
      "metadata": {
        "colab": {
          "base_uri": "https://localhost:8080/"
        },
        "id": "Wnlj6uRknQtx",
        "outputId": "b60e237a-705f-4a25-fd99-26314e527e19"
      },
      "execution_count": 53,
      "outputs": [
        {
          "output_type": "stream",
          "name": "stdout",
          "text": [
            "제수를 입력하세요2\n",
            "피제수를 입력하세요0\n",
            "0으로 나누는 것은 불가능합니다.\n"
          ]
        }
      ]
    },
    {
      "cell_type": "code",
      "source": [
        "try:\n",
        "  a = int(input('제수를 입력하세요'))\n",
        "  b = int(input('피제수를 입력하세요'))\n",
        "  print(a/b)\n",
        "except ZeroDivisionError:\n",
        "  print('0으로 나누는 것은 불가능합니다.')\n",
        "except ValueError:\n",
        "  print('정수만 입력할 수 있습니다.')\n",
        "except Exception:\n",
        "  print('알수 없는 예외가 발생했습니다.')\n",
        "  "
      ],
      "metadata": {
        "id": "_3gvu8IxnwHb"
      },
      "execution_count": null,
      "outputs": []
    },
    {
      "cell_type": "code",
      "source": [
        "a = [10,20,30,40,50]\n",
        "try:\n",
        "  a[10]\n",
        "except IndexError:\n",
        "  print(\"에러발생\")"
      ],
      "metadata": {
        "colab": {
          "base_uri": "https://localhost:8080/"
        },
        "id": "I2d48gc_otWt",
        "outputId": "23377589-b1d2-4272-f0c3-8dadabecc685"
      },
      "execution_count": 55,
      "outputs": [
        {
          "output_type": "stream",
          "name": "stdout",
          "text": [
            "에러발생\n"
          ]
        }
      ]
    },
    {
      "cell_type": "code",
      "source": [
        "a = [10,20,30,40,50]\n",
        "try:\n",
        "  a[10]\n",
        "except IndexError as e:\n",
        "  print(e)"
      ],
      "metadata": {
        "colab": {
          "base_uri": "https://localhost:8080/"
        },
        "id": "r9p9weHZpEGP",
        "outputId": "73a52073-7ef9-4df7-8bd3-43d389df4f54"
      },
      "execution_count": 56,
      "outputs": [
        {
          "output_type": "stream",
          "name": "stdout",
          "text": [
            "list index out of range\n"
          ]
        }
      ]
    },
    {
      "cell_type": "code",
      "source": [
        "try:\n",
        "  a = int(input('제수를 입력하세요'))\n",
        "  b = int(input('피제수를 입력하세요'))\n",
        "  result = a / b\n",
        "except ZeroDivisionError:\n",
        "  print('0으로 나누는 것은 불가능합니다.')\n",
        "except ValueError:\n",
        "  print('정수만 입력할 수 있습니다.')\n",
        "except Exception:\n",
        "  print('알수 없는 예외가 발생했습니다.')\n",
        "else:  # 예외가 발생하지 않았을 경우 \n",
        "  print(result)\n",
        "finally:  # 예외 발생 여부와는 상관없이 항상 마지막에 접근\n",
        "  print('프로그램을 종료합니다.')\n",
        "  "
      ],
      "metadata": {
        "colab": {
          "base_uri": "https://localhost:8080/"
        },
        "id": "mvkPr3ugpYUP",
        "outputId": "cbc9d6a6-7f31-44f9-a4d0-481340678eb0"
      },
      "execution_count": 58,
      "outputs": [
        {
          "output_type": "stream",
          "name": "stdout",
          "text": [
            "제수를 입력하세요2\n",
            "피제수를 입력하세요0\n",
            "0으로 나누는 것은 불가능합니다.\n",
            "프로그램을 종료합니다.\n"
          ]
        }
      ]
    },
    {
      "cell_type": "code",
      "source": [
        "# 강제 예외 발생\n",
        "\n",
        "try:\n",
        "  raise Exception('강제 예외 발생')\n",
        "except Exception as e:\n",
        "  print('발생 한 예외 메세지')\n",
        "  print(e)"
      ],
      "metadata": {
        "colab": {
          "base_uri": "https://localhost:8080/"
        },
        "id": "QEeTYIysqeOp",
        "outputId": "1a3bccd8-4f3c-416f-deea-2b132b98b452"
      },
      "execution_count": 67,
      "outputs": [
        {
          "output_type": "stream",
          "name": "stdout",
          "text": [
            "발생 한 예외 메세지\n",
            "강제 예외 발생\n"
          ]
        }
      ]
    },
    {
      "cell_type": "code",
      "source": [
        "# page 306 \n",
        "# 2\n",
        "\n",
        "import random\n",
        "\n",
        "class UpDown():\n",
        "  def __init__(self):\n",
        "    self.answer = random.randint(1,100)\n",
        "    self.count = 0\n",
        "\n",
        "  def play(self):\n",
        "    while True:\n",
        "      try:\n",
        "        no = self.challenge()\n",
        "      except Exception as e:\n",
        "        print(e)\n",
        "      else:\n",
        "        if self.answer < no:\n",
        "          print('Down!')\n",
        "        elif self.answer > n:\n",
        "          print('Up!')\n",
        "        else:\n",
        "          print(f'{self.count}만의 정답니다.')\n",
        "          break\n",
        "\n",
        "  def challenge(self):\n",
        "    self.count += 1\n",
        "    no = int(input('입력(1~100) >>>'))\n",
        "    if no < 1 or no > 100:\n",
        "      raise Exception('1~100 사이만 입력하셔요')\n",
        "    return no\n",
        "\n",
        "\n",
        "\n",
        "game = UpDown()\n",
        "game.play()"
      ],
      "metadata": {
        "colab": {
          "base_uri": "https://localhost:8080/"
        },
        "id": "EAUIq9RYra3N",
        "outputId": "1b79b2bd-d914-4397-8525-56f5ef8de6e8"
      },
      "execution_count": null,
      "outputs": [
        {
          "output_type": "stream",
          "name": "stdout",
          "text": [
            "입력(1~100) >>>50\n",
            "Down!\n"
          ]
        }
      ]
    }
  ]
}