{
  "nbformat": 4,
  "nbformat_minor": 0,
  "metadata": {
    "colab": {
      "name": "Python Basic Day3.ipynb",
      "provenance": [],
      "authorship_tag": "ABX9TyPbGGeY9G9aARqIF5leWS7/",
      "include_colab_link": true
    },
    "kernelspec": {
      "name": "python3",
      "display_name": "Python 3"
    },
    "language_info": {
      "name": "python"
    }
  },
  "cells": [
    {
      "cell_type": "markdown",
      "metadata": {
        "id": "view-in-github",
        "colab_type": "text"
      },
      "source": [
        "<a href=\"https://colab.research.google.com/github/chryu314/pythonbasicclass/blob/main/Python_Basic_Day3.ipynb\" target=\"_parent\"><img src=\"https://colab.research.google.com/assets/colab-badge.svg\" alt=\"Open In Colab\"/></a>"
      ]
    },
    {
      "cell_type": "code",
      "execution_count": null,
      "metadata": {
        "id": "Is9gtGg5RRml"
      },
      "outputs": [],
      "source": [
        "# list tuple dict set\n",
        "\n",
        "# list   [] indexing/slicing    mutable(del,insert) [1]\n",
        "# tuple  () indexing/slicing    immutable           (1,)\n",
        "# dict   {}     X(unordered)    mutable(del,insert) {'key':'value'}\n",
        "# set    {}     X(unordered)    mutable(del,insert) {1,2,3}\n",
        "\n"
      ]
    },
    {
      "cell_type": "code",
      "source": [
        "# 1\n",
        "no = '31025'\n",
        "a = no[0]   #indexing\n",
        "b = no[1:3] #slicing\n",
        "c = no[3:]  #slicing\n",
        "print(a,'학년',b,'반',c,'번')\n",
        "print(f'{a} 학년 {b} 반 {c} 번')   # f 스트링\n"
      ],
      "metadata": {
        "colab": {
          "base_uri": "https://localhost:8080/"
        },
        "id": "Wief6goSVybA",
        "outputId": "0f2715bd-9bd7-4067-f06b-eab1920f15fb"
      },
      "execution_count": null,
      "outputs": [
        {
          "output_type": "stream",
          "name": "stdout",
          "text": [
            "3 학년 10 반 25 번\n",
            "3 학년 10 반 25 번\n"
          ]
        }
      ]
    },
    {
      "cell_type": "code",
      "source": [
        "# 2\n",
        "no = '서울2가1234'  \n",
        "no4 = no[-4:]\n",
        "print(no,'의 차량번호 4자리는',no4,'입니다.')\n",
        "print(f'{no} 의 차량번호 4자리는 {no4} 입니다')"
      ],
      "metadata": {
        "colab": {
          "base_uri": "https://localhost:8080/"
        },
        "id": "2bfVtBXBY0lw",
        "outputId": "48aeaf42-3c17-4302-a58f-75486b488471"
      },
      "execution_count": null,
      "outputs": [
        {
          "output_type": "stream",
          "name": "stdout",
          "text": [
            "서울2가1234 의 차량번호 4자리는 1234 입니다.\n",
            "서울2가1234 의 차량번호 4자리는 1234 입니다\n"
          ]
        }
      ]
    },
    {
      "cell_type": "code",
      "source": [
        "# 3\n",
        "s = 'maple'    #가운데 p 출력\n",
        "center = s[len(s) // 2]  # // 나머지를 버리고 몫만 취한다.\n",
        "                         # %  몫은 버리고 나머지만 취한다.(홀/짝/배수)\n",
        "print(s,'의 가운데 글자는',center,'입니다')\n",
        "print(f'{s} 의 가운데 글자는 {center} 입니다')"
      ],
      "metadata": {
        "colab": {
          "base_uri": "https://localhost:8080/"
        },
        "id": "xMWNGuSnaWwg",
        "outputId": "bf03ada7-4156-4881-f515-858d4c608043"
      },
      "execution_count": null,
      "outputs": [
        {
          "output_type": "stream",
          "name": "stdout",
          "text": [
            "maple 의 가운데 글자는 p 입니다\n",
            "maple 의 가운데 글자는 p 입니다\n"
          ]
        }
      ]
    },
    {
      "cell_type": "code",
      "source": [
        "# 4\n",
        "li1 = [10,20,30,40,50,60,70,80,90,100]\n",
        "\n",
        "print('3번째 요소부터 7번째 요소 =',li1[2:7])\n",
        "print('3번째 요소부터 7번째 요소 중 2번째 요소 =',li1[2:7][1])\n"
      ],
      "metadata": {
        "colab": {
          "base_uri": "https://localhost:8080/"
        },
        "id": "zB3IePfwcwdN",
        "outputId": "192d7042-488a-4477-ebd0-aada2fb04a73"
      },
      "execution_count": null,
      "outputs": [
        {
          "output_type": "stream",
          "name": "stdout",
          "text": [
            "3번째 요소부터 7번째 요소 = [30, 40, 50, 60, 70]\n",
            "3번째 요소부터 7번째 요소 중 2번째 요소 = 40\n"
          ]
        }
      ]
    },
    {
      "cell_type": "code",
      "source": [
        "#5\n",
        "dict = {'금요일':'탕수육',\n",
        "        '토요일':'유산슬',\n",
        "        '일요일':'팔보채'}\n",
        "\n",
        "print('금요일 :',dict['금요일'])\n",
        "print('토요일 :',dict['토요일'])\n",
        "print('일요일 :',dict['일요일'])"
      ],
      "metadata": {
        "colab": {
          "base_uri": "https://localhost:8080/"
        },
        "id": "VnuXhp9sgwxm",
        "outputId": "91d08f1f-82a1-44ed-d498-cc27d254e376"
      },
      "execution_count": null,
      "outputs": [
        {
          "output_type": "stream",
          "name": "stdout",
          "text": [
            "금요일 : 탕수육\n",
            "토요일 : 유산슬\n",
            "일요일 : 팔보채\n"
          ]
        }
      ]
    },
    {
      "cell_type": "code",
      "source": [
        "# \\  따움표의 기능을 무력화 시키고 글자로 표현\n",
        "# \\n 줄바꿈 line feed\n",
        "# \\t 탭     tab\n",
        "\n",
        "print('Hello \\'World\\'')\n",
        "print(\"Hello 'World'\")\n",
        "\n",
        "print(\"Hello \\\"World\\\"\")\n",
        "print('Hello \"World\"')\n",
        "\n",
        "print('*\\n**\\n***')\n",
        "\n",
        "print('Hello\\nWorld')\n",
        "\n",
        "print('이름\\t연락처')\n",
        "print('제시카\\t01-123-4567')\n",
        "print('마틴\\t010-6789-7890')"
      ],
      "metadata": {
        "colab": {
          "base_uri": "https://localhost:8080/"
        },
        "id": "oMJTviBniW2C",
        "outputId": "28e21629-f51b-4a52-9909-2ecd2d25baee"
      },
      "execution_count": null,
      "outputs": [
        {
          "output_type": "stream",
          "name": "stdout",
          "text": [
            "Hello 'World'\n",
            "Hello 'World'\n",
            "Hello \"World\"\n",
            "Hello \"World\"\n",
            "*\n",
            "**\n",
            "***\n",
            "Hello\n",
            "World\n",
            "이름\t연락처\n",
            "제시카\t01-123-4567\n",
            "마틴\t010-6789-7890\n"
          ]
        }
      ]
    },
    {
      "cell_type": "code",
      "source": [
        "# print() 함수\n",
        "\n",
        "print('재미있는','파이썬')\n",
        "print('재미있는','파이썬',sep=',')\n",
        "print('재미있는','파이썬',sep='/')\n",
        "print('재미있는','파이썬',sep=':')"
      ],
      "metadata": {
        "colab": {
          "base_uri": "https://localhost:8080/"
        },
        "id": "9zPUmURplAl4",
        "outputId": "d9dd57dc-646d-485f-ce40-7beb465556b1"
      },
      "execution_count": null,
      "outputs": [
        {
          "output_type": "stream",
          "name": "stdout",
          "text": [
            "재미있는 파이썬\n",
            "재미있는,파이썬\n",
            "재미있는/파이썬\n",
            "재미있는:파이썬\n"
          ]
        }
      ]
    },
    {
      "cell_type": "code",
      "source": [
        "print('영화 타이타닉')\n",
        "print('평점', end = ':')\n",
        "print('5점')"
      ],
      "metadata": {
        "colab": {
          "base_uri": "https://localhost:8080/"
        },
        "id": "IgKMiFstmPRB",
        "outputId": "983db535-c505-4b86-88b5-882d3549134e"
      },
      "execution_count": null,
      "outputs": [
        {
          "output_type": "stream",
          "name": "stdout",
          "text": [
            "영화 타이타닉\n",
            "평점:5점\n"
          ]
        }
      ]
    },
    {
      "cell_type": "code",
      "source": [
        "# % 연산자(비추)\n",
        "print('%d' % 11)   # %d 정수 10진수 자리표시자\n",
        "print('%o' % 10)   # %o 정수 8진수  자리표시자\n",
        "print('%x' % 10)   # %x 정수 16진수 자리표시자\n",
        "\n",
        "print('%f' % 3.14)\n",
        "print('%s' %'python')\n",
        "\n",
        "print('%s' % 11)   # %d 정수 10진수 자리표시자\n",
        "print('%s' % 10)   # %o 정수 8진수  자리표시자\n",
        "print('%s' % 10)   # %x 정수 16진수 자리표시자\n",
        "\n",
        "print('%s' % 3.14)"
      ],
      "metadata": {
        "colab": {
          "base_uri": "https://localhost:8080/"
        },
        "id": "iW70kQRYodsK",
        "outputId": "f8e06cd4-359d-4e35-d536-b064fae45ca3"
      },
      "execution_count": null,
      "outputs": [
        {
          "output_type": "stream",
          "name": "stdout",
          "text": [
            "11\n",
            "12\n",
            "a\n",
            "3.140000\n",
            "python\n",
            "11\n",
            "10\n",
            "10\n",
            "3.14\n"
          ]
        }
      ]
    },
    {
      "cell_type": "code",
      "source": [
        "print('%d'%1)\n",
        "print('%5d' % 1)     #다섯칸을 확보하고 오른쪽에 출력\n",
        "print('%5d' % 11)    #다섯칸을 확보하고 오른쪽부터 출력\n",
        "\n"
      ],
      "metadata": {
        "colab": {
          "base_uri": "https://localhost:8080/"
        },
        "id": "tHhW07fhtW3j",
        "outputId": "1b5fe0be-dbaa-4b69-8f65-d7959deda2ec"
      },
      "execution_count": null,
      "outputs": [
        {
          "output_type": "stream",
          "name": "stdout",
          "text": [
            "1\n",
            "    1\n",
            "   11\n"
          ]
        }
      ]
    },
    {
      "cell_type": "code",
      "source": [
        "print('%-5d' % 1)     #다섯칸을 확보하고 왼쪽에 출력\n",
        "print('%-5d' % 11)    #다섯칸을 확보하고 왼쪽부터 출력"
      ],
      "metadata": {
        "colab": {
          "base_uri": "https://localhost:8080/"
        },
        "id": "eOnYsdlBty7U",
        "outputId": "223ea3de-bedd-46a8-dd36-5737326c0703"
      },
      "execution_count": null,
      "outputs": [
        {
          "output_type": "stream",
          "name": "stdout",
          "text": [
            "1    \n",
            "11   \n"
          ]
        }
      ]
    },
    {
      "cell_type": "code",
      "source": [
        "print('%5.2f' % 3.14)     #다섯칸을 확보하고 소수 2자리까지 오른쪽에 실수출력\n",
        "print('%5.1f' % 3.14)    #다섯칸을 확보하고 소수 1자리까지 오른쪽에 실수 출력"
      ],
      "metadata": {
        "colab": {
          "base_uri": "https://localhost:8080/"
        },
        "id": "duTnUZrQt_Xn",
        "outputId": "533601d3-a6c7-4deb-ab23-5465e992dffb"
      },
      "execution_count": null,
      "outputs": [
        {
          "output_type": "stream",
          "name": "stdout",
          "text": [
            " 3.14\n",
            "  3.1\n"
          ]
        }
      ]
    },
    {
      "cell_type": "code",
      "source": [
        "print('%-5.2f' % 3.14)     #다섯칸을 확보하고 소수 2자리까지 왼쪽에 실수출력\n",
        "print('%-5.1f' % 3.14)    #다섯칸을 확보하고 소수 1자리까지 왼쪽에 실수 출력"
      ],
      "metadata": {
        "colab": {
          "base_uri": "https://localhost:8080/"
        },
        "id": "FoIv1yuPutg0",
        "outputId": "e0d3ae57-f944-4055-8a3d-8e04815be714"
      },
      "execution_count": null,
      "outputs": [
        {
          "output_type": "stream",
          "name": "stdout",
          "text": [
            "3.14 \n",
            "3.1  \n"
          ]
        }
      ]
    },
    {
      "cell_type": "code",
      "source": [
        "print('%.2f' % 3.14)     # 소수 2자리까지  실수출력\n",
        "print('%.1f' % 3.14)    #소수 1자리까지  실수 출력"
      ],
      "metadata": {
        "colab": {
          "base_uri": "https://localhost:8080/"
        },
        "id": "9AmIack5u0LD",
        "outputId": "b785f82c-5643-4b2c-be5d-3fdb532348c2"
      },
      "execution_count": null,
      "outputs": [
        {
          "output_type": "stream",
          "name": "stdout",
          "text": [
            "3.14\n",
            "3.1\n"
          ]
        }
      ]
    },
    {
      "cell_type": "code",
      "source": [
        "print('%s' % 3.14)     #소수 1자까지 실수 출력"
      ],
      "metadata": {
        "colab": {
          "base_uri": "https://localhost:8080/"
        },
        "id": "uXuA-hD3u_hc",
        "outputId": "92fcf98e-ec76-493c-f27e-2ac03cbeae9b"
      },
      "execution_count": null,
      "outputs": [
        {
          "output_type": "stream",
          "name": "stdout",
          "text": [
            "3.14\n"
          ]
        }
      ]
    },
    {
      "cell_type": "code",
      "source": [
        "# 기본 출력\n",
        "a ='학생'\n",
        "print(a,'입니다.')\n",
        "\n",
        "# f string 출력 방법\n",
        "print(f'{a} 입니다.')\n",
        "\n",
        "# % 연산자 출력 방법\n",
        "print('%s 입니다.' % a)\n",
        "\n",
        "# format() 출력 방법 \n",
        "print('{} 입니다.'.format(a))"
      ],
      "metadata": {
        "colab": {
          "base_uri": "https://localhost:8080/"
        },
        "id": "IIoafhVVvHMN",
        "outputId": "3721a209-6cbe-4fa8-f387-38dce9e1f4b6"
      },
      "execution_count": null,
      "outputs": [
        {
          "output_type": "stream",
          "name": "stdout",
          "text": [
            "학생 입니다.\n",
            "학생 입니다.\n",
            "학생 입니다.\n",
            "학생 입니다.\n"
          ]
        }
      ]
    },
    {
      "cell_type": "code",
      "source": [
        "#.format() 매서드 \n",
        "\n",
        "print('My name is {}'.format('james'))"
      ],
      "metadata": {
        "colab": {
          "base_uri": "https://localhost:8080/"
        },
        "id": "YH5ksk9fwXCt",
        "outputId": "8b0c6072-b6ec-4697-a982-daa82a1ab836"
      },
      "execution_count": null,
      "outputs": [
        {
          "output_type": "stream",
          "name": "stdout",
          "text": [
            "My name is james\n"
          ]
        }
      ]
    },
    {
      "cell_type": "code",
      "source": [
        "print('My name is {0}'.format('james'))"
      ],
      "metadata": {
        "colab": {
          "base_uri": "https://localhost:8080/"
        },
        "id": "2Nz7tjYawtWJ",
        "outputId": "098b0d63-387f-496a-acc3-e4c72161f48f"
      },
      "execution_count": null,
      "outputs": [
        {
          "output_type": "stream",
          "name": "stdout",
          "text": [
            "My name is james\n"
          ]
        }
      ]
    },
    {
      "cell_type": "code",
      "source": [
        "print('My name is {name}'.format(name='james'))"
      ],
      "metadata": {
        "colab": {
          "base_uri": "https://localhost:8080/"
        },
        "id": "P_BPpLR7u9BP",
        "outputId": "2e322cab-3333-4a1c-b079-2e5fa5ad9ee2"
      },
      "execution_count": null,
      "outputs": [
        {
          "output_type": "stream",
          "name": "stdout",
          "text": [
            "My name is james\n"
          ]
        }
      ]
    },
    {
      "cell_type": "code",
      "source": [
        "print('My name is {}. I\\'m {} years old.'.format('James', 20))"
      ],
      "metadata": {
        "colab": {
          "base_uri": "https://localhost:8080/"
        },
        "id": "lyLb0flIxFta",
        "outputId": "ec5234df-4d43-4308-c874-0fdfcb567be0"
      },
      "execution_count": null,
      "outputs": [
        {
          "output_type": "stream",
          "name": "stdout",
          "text": [
            "My name is James. I'm 20 years old.\n"
          ]
        }
      ]
    },
    {
      "cell_type": "code",
      "source": [
        "print('My name is {1}. I\\'m {0} years old.'.format('James', 20))"
      ],
      "metadata": {
        "id": "Api8xd-oxod3"
      },
      "execution_count": null,
      "outputs": []
    },
    {
      "cell_type": "code",
      "source": [
        "print('My name is {name}. I\\'m {age} years old.'.format(name='James', age=20))"
      ],
      "metadata": {
        "colab": {
          "base_uri": "https://localhost:8080/"
        },
        "id": "8W7G4IxMxw7Y",
        "outputId": "4bf8f49e-5569-4410-801c-3dfcfea40d02"
      },
      "execution_count": null,
      "outputs": [
        {
          "output_type": "stream",
          "name": "stdout",
          "text": [
            "My name is James. I'm 20 years old.\n"
          ]
        }
      ]
    },
    {
      "cell_type": "code",
      "source": [
        "# f-strings\n",
        "\n",
        "who = 'you'\n",
        "now = 'happy'\n",
        "\n",
        "print(f'{who} make me {now}')"
      ],
      "metadata": {
        "colab": {
          "base_uri": "https://localhost:8080/"
        },
        "id": "aaaqdGscx70S",
        "outputId": "a501bf85-7090-498a-9b37-ae54c8fe4189"
      },
      "execution_count": null,
      "outputs": [
        {
          "output_type": "stream",
          "name": "stdout",
          "text": [
            "you make me happy\n"
          ]
        }
      ]
    },
    {
      "cell_type": "code",
      "source": [
        "age = 25\n",
        "print(f'내년에 {age+1}살이 됩니다.')"
      ],
      "metadata": {
        "colab": {
          "base_uri": "https://localhost:8080/"
        },
        "id": "UEqU4H1DyfKo",
        "outputId": "713a5fa8-e674-4b6e-e404-35dab69d01bb"
      },
      "execution_count": null,
      "outputs": [
        {
          "output_type": "stream",
          "name": "stdout",
          "text": [
            "내년에 26살이 됩니다.\n"
          ]
        }
      ]
    },
    {
      "cell_type": "code",
      "source": [
        "# 표준입력\n",
        " \n",
        "a = input()\n",
        "print(a)"
      ],
      "metadata": {
        "colab": {
          "base_uri": "https://localhost:8080/"
        },
        "id": "eT7oR3ery3l8",
        "outputId": "0b7fe803-64ad-4268-f465-9c0fd6d2bd3e"
      },
      "execution_count": null,
      "outputs": [
        {
          "output_type": "stream",
          "name": "stdout",
          "text": [
            "asdd\n",
            "asdd\n"
          ]
        }
      ]
    },
    {
      "cell_type": "code",
      "source": [
        "n = input('정수를 입력하세요: ')\n",
        "print(n)"
      ],
      "metadata": {
        "colab": {
          "base_uri": "https://localhost:8080/"
        },
        "id": "nosYSTrQzd8H",
        "outputId": "3cb868b4-f1e9-42bf-81ac-55784c6f852d"
      },
      "execution_count": null,
      "outputs": [
        {
          "output_type": "stream",
          "name": "stdout",
          "text": [
            "정수를 입력하세요: 23\n",
            "23\n"
          ]
        }
      ]
    },
    {
      "cell_type": "code",
      "source": [
        "name = input('이름을 입력하세요>>>')\n",
        "age = input('나이를 입력하세요>>>')\n",
        "\n",
        "print('입력된 이름은 {} 입니다.'.format(name))\n",
        "print('입력된 나이는 {} 입니다.'.format(age))\n",
        "\n",
        "print('입력된 이름은 %s 입니다.'% name)\n",
        "print('입력된 나이는 %s 입니다.'% age)\n",
        "\n",
        "print(f'입력된 이름은 {name} 입니다.')\n",
        "print(f'입력된 나이는 {age} 입니다.')\n",
        "\n",
        "print('입력된 이름은',name,'입니다.')\n",
        "print('입력된 나이는',age,'입니다.')"
      ],
      "metadata": {
        "id": "MOUp1yWh0kAO",
        "outputId": "6beefc17-c152-4274-8037-e6e5d0a41899",
        "colab": {
          "base_uri": "https://localhost:8080/"
        }
      },
      "execution_count": 109,
      "outputs": [
        {
          "output_type": "stream",
          "name": "stdout",
          "text": [
            "이름을 입력하세요>>>류찬희\n",
            "나이를 입력하세요>>>26살\n",
            "입력된 이름은 류찬희 입니다.\n",
            "입력된 나이는 26살 입니다.\n",
            "입력된 이름은 류찬희 입니다.\n",
            "입력된 나이는 26살 입니다.\n",
            "입력된 이름은 류찬희 입니다.\n",
            "입력된 나이는 26살 입니다.\n",
            "입력된 이름은 류찬희 입니다.\n",
            "입력된 나이는 26살 입니다.\n"
          ]
        }
      ]
    }
  ]
}