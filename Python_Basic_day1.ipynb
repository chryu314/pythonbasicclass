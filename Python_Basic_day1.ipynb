{
  "nbformat": 4,
  "nbformat_minor": 0,
  "metadata": {
    "colab": {
      "name": "Python.Basic day1",
      "provenance": [],
      "authorship_tag": "ABX9TyPAD/Nje5tf6pwSCtpnXM2w",
      "include_colab_link": true
    },
    "kernelspec": {
      "name": "python3",
      "display_name": "Python 3"
    },
    "language_info": {
      "name": "python"
    }
  },
  "cells": [
    {
      "cell_type": "markdown",
      "metadata": {
        "id": "view-in-github",
        "colab_type": "text"
      },
      "source": [
        "<a href=\"https://colab.research.google.com/github/chryu314/pythonbasicclass/blob/main/Python_Basic_day1.ipynb\" target=\"_parent\"><img src=\"https://colab.research.google.com/assets/colab-badge.svg\" alt=\"Open In Colab\"/></a>"
      ]
    },
    {
      "cell_type": "code",
      "execution_count": 9,
      "metadata": {
        "id": "FeVrB2Ku2SZb"
      },
      "outputs": [],
      "source": [
        "# 파이썬이란!!! PyCharm,Anaconda,visual studio code\n",
        "\n",
        "# 1991 네덜란드 '귀도 반 로섬'에 의해 개발된 언어\n",
        "# 본래 '바단뱀' 이라는 뜻을 가지고 있어 로고등 대부분의 로고등을 뱀으로 \n",
        "# 나타난다.\n",
        "\n",
        "# 파이썬의 특징\n",
        "# 1) 파이선은 인터프리터 언어이다.한줄한줄 실행이 된다.   이 반대는 컴파일러\n",
        "\n",
        "# 2)플랫품에 독립적이다.\n",
        "\n",
        "# 3)객체 지향 언어이다. *중요*\n",
        "\n",
        "# 4)동적 타이핑 언어이다.\n",
        "\n",
        "# 5)개발 속도가 빠르다.\n",
        "\n",
        "# 개발환경 - web : colab, local: Anaconda or vs code"
      ]
    },
    {
      "cell_type": "code",
      "source": [
        "# 주석 comment \n",
        "# 코드에 설명을 작성하는 부분\n",
        "# 주석은 프로그램 실행에 전혀 영향을 주지 않는다.\n",
        "#주석은 '#' 기호를 사용하거나 ('''주석''',\"\"\"주석\"\"\" (주석 처럼 명확한 주석아님))"
      ],
      "metadata": {
        "id": "79lVX58P-EmN"
      },
      "execution_count": 11,
      "outputs": []
    },
    {
      "cell_type": "code",
      "source": [
        "'''        <-Docstring\n",
        "파일명: Ex02-1.py\n",
        "개요: 반지름을 전달하면 원의 넓이를 반환\n",
        "작성자: 류찬희\n",
        "작성일: 2022-0214\n",
        "'''\n",
        "# math 모듈을 포함\n",
        "import math\n",
        "\n",
        "def get_area(radius):\n",
        "  \"\"\"반지름을 입력받아 원의 넓이를 반환하는 get_area()함수\"\"\"\n",
        "  area = math.pi * math.pow(radius,2)\n",
        "  return area\n",
        "\n",
        "  radius = 1.5\n",
        "  # get_area()함수 호출 결과를 area 변수에 저장\n",
        "  area =  get_area(radius)\n",
        "  print(area)\n",
        "  print(get_area.__doc__)"
      ],
      "metadata": {
        "id": "atRfQO2e_KOD"
      },
      "execution_count": 15,
      "outputs": []
    },
    {
      "cell_type": "code",
      "source": [
        "#변수 variable\n",
        "\n",
        "# 어떤 데이터를 저장할때 사용되는 저장소\n",
        "\n",
        "score = 100     # score 라는 이름의 변수에 100을 넣는다.\n",
        "print(score)\n",
        "\n",
        "# 변수 이름 생성 규칙\n",
        "# 1. 영문, 한글, 숫자, 밑줄로 구성된다.(한글은 변수명으로 사용하지 말자)\n",
        "# 2. 특수문자는 사용할 수 없다.\n",
        "# 3. 대문자와 소문자는 구분한다.\n",
        "# 4. 변수명의 첫문자에 숫자는 쓸 수 없다.\n",
        "# 5. 예약어(키워드)는 사용할 수 없다.\n",
        "\n",
        "# * 가급적 소문자로만 만든다.\n",
        "# * 가급적 한글은 사용하지 말자.\n",
        "# * 가급적 의미있는 단어를 사용하자.\n"
      ],
      "metadata": {
        "colab": {
          "base_uri": "https://localhost:8080/"
        },
        "id": "YM8lqf0CCIuQ",
        "outputId": "748def87-6a1f-48f6-979c-a26b5afd0a5a"
      },
      "execution_count": 18,
      "outputs": [
        {
          "output_type": "stream",
          "name": "stdout",
          "text": [
            "100\n",
            "100\n"
          ]
        }
      ]
    },
    {
      "cell_type": "code",
      "source": [
        "name = 'Alice'\n",
        "age = 25\n",
        "address = '''우편번호 12345\n",
        "서울시 영등포구 여의도동 \n",
        "서울빌딩 501호 '''\n",
        "boyfriend = None\n",
        "height =168.5\n",
        "print(name)\n",
        "print(age)\n",
        "print(address)\n",
        "print(boyfriend)\n",
        "print(height)"
      ],
      "metadata": {
        "colab": {
          "base_uri": "https://localhost:8080/"
        },
        "id": "Nb9EEYcgIAlu",
        "outputId": "61891ed0-fd95-462c-adcb-f61ab86b04ad"
      },
      "execution_count": 19,
      "outputs": [
        {
          "output_type": "stream",
          "name": "stdout",
          "text": [
            "Alice\n",
            "25\n",
            "우편번호 12345\n",
            "서울시 영등포구 여의도동 \n",
            "서울빌딩 501호 \n",
            "None\n",
            "168.5\n"
          ]
        }
      ]
    }
  ]
}