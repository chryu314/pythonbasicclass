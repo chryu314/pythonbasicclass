{
  "nbformat": 4,
  "nbformat_minor": 0,
  "metadata": {
    "colab": {
      "name": "Python Basic Day7.ipynb",
      "provenance": [],
      "authorship_tag": "ABX9TyMlp+9VjYtn6UDoj5EW7VlM",
      "include_colab_link": true
    },
    "kernelspec": {
      "name": "python3",
      "display_name": "Python 3"
    },
    "language_info": {
      "name": "python"
    }
  },
  "cells": [
    {
      "cell_type": "markdown",
      "metadata": {
        "id": "view-in-github",
        "colab_type": "text"
      },
      "source": [
        "<a href=\"https://colab.research.google.com/github/chryu314/pythonbasicclass/blob/main/Python_Basic_Day7.ipynb\" target=\"_parent\"><img src=\"https://colab.research.google.com/assets/colab-badge.svg\" alt=\"Open In Colab\"/></a>"
      ]
    },
    {
      "cell_type": "code",
      "execution_count": 1,
      "metadata": {
        "colab": {
          "base_uri": "https://localhost:8080/",
          "height": 36
        },
        "id": "CB9gzPjTD7-b",
        "outputId": "f37ff7a9-c07f-43ab-a539-e7d6ed147498"
      },
      "outputs": [
        {
          "output_type": "execute_result",
          "data": {
            "application/vnd.google.colaboratory.intrinsic+json": {
              "type": "string"
            },
            "text/plain": [
              "'0'"
            ]
          },
          "metadata": {},
          "execution_count": 1
        }
      ],
      "source": [
        "chr(48)\n"
      ]
    },
    {
      "cell_type": "code",
      "source": [
        "chr(65)"
      ],
      "metadata": {
        "colab": {
          "base_uri": "https://localhost:8080/",
          "height": 36
        },
        "id": "6T_FBWnxHKTW",
        "outputId": "32ccba39-9a18-47fd-e1bf-761faffba608"
      },
      "execution_count": 2,
      "outputs": [
        {
          "output_type": "execute_result",
          "data": {
            "application/vnd.google.colaboratory.intrinsic+json": {
              "type": "string"
            },
            "text/plain": [
              "'A'"
            ]
          },
          "metadata": {},
          "execution_count": 2
        }
      ]
    },
    {
      "cell_type": "code",
      "source": [
        "ord('A')"
      ],
      "metadata": {
        "colab": {
          "base_uri": "https://localhost:8080/"
        },
        "id": "Q3-X_IP2HTN5",
        "outputId": "eb6e4cd4-9a63-48ce-9bb7-4831608c6543"
      },
      "execution_count": 3,
      "outputs": [
        {
          "output_type": "execute_result",
          "data": {
            "text/plain": [
              "65"
            ]
          },
          "metadata": {},
          "execution_count": 3
        }
      ]
    },
    {
      "cell_type": "code",
      "source": [
        "for item in enumerate(['가위','바위','보']):\n",
        "  print(item)"
      ],
      "metadata": {
        "colab": {
          "base_uri": "https://localhost:8080/"
        },
        "id": "LRWkb1EDHbhU",
        "outputId": "34e60bee-d84c-4855-afcb-5335aa4a2157"
      },
      "execution_count": 5,
      "outputs": [
        {
          "output_type": "stream",
          "name": "stdout",
          "text": [
            "(0, '가위')\n",
            "(1, '바위')\n",
            "(2, '보')\n"
          ]
        }
      ]
    },
    {
      "cell_type": "code",
      "source": [
        "for idx, item in enumerate(['가위','바위','보']):\n",
        "  print(idx+1,item)"
      ],
      "metadata": {
        "colab": {
          "base_uri": "https://localhost:8080/"
        },
        "id": "nip8FvQLISi3",
        "outputId": "e54df466-bf70-493c-9285-1559e0d80bb1"
      },
      "execution_count": 7,
      "outputs": [
        {
          "output_type": "stream",
          "name": "stdout",
          "text": [
            "1 가위\n",
            "2 바위\n",
            "3 보\n"
          ]
        }
      ]
    },
    {
      "cell_type": "code",
      "source": [
        "# page 165 Method\n",
        "\n",
        "name = input('이름을 입력하세요 >>> ')\n",
        "\n",
        "list = []\n",
        "\n",
        "list.append(name)\n",
        "\n",
        "print(list)"
      ],
      "metadata": {
        "colab": {
          "base_uri": "https://localhost:8080/"
        },
        "id": "He7TCWlrIoUd",
        "outputId": "718ca526-2d3b-4197-ce40-c1bdef754dde"
      },
      "execution_count": 9,
      "outputs": [
        {
          "output_type": "stream",
          "name": "stdout",
          "text": [
            "이름을 입력하세요 >>> ryu\n",
            "['ryu']\n"
          ]
        }
      ]
    },
    {
      "cell_type": "code",
      "source": [
        "s = '내가 그린 기린 그림은 목 긴 기린 그림이과, 네가 그린 기린 그림은 목짧은 기린 그림이다.'\n",
        "s.count('기린')"
      ],
      "metadata": {
        "colab": {
          "base_uri": "https://localhost:8080/"
        },
        "id": "Ugc0foH8KCpx",
        "outputId": "8d662245-5a1c-448d-dcfa-f4459f109fa8"
      },
      "execution_count": 10,
      "outputs": [
        {
          "output_type": "execute_result",
          "data": {
            "text/plain": [
              "4"
            ]
          },
          "metadata": {},
          "execution_count": 10
        }
      ]
    },
    {
      "cell_type": "code",
      "source": [
        "s = 'best of best'\n",
        "s.count('best',5)"
      ],
      "metadata": {
        "colab": {
          "base_uri": "https://localhost:8080/"
        },
        "id": "Q4GCfohXKpmi",
        "outputId": "ae11786e-4c56-46d9-da88-010147625a3f"
      },
      "execution_count": 11,
      "outputs": [
        {
          "output_type": "execute_result",
          "data": {
            "text/plain": [
              "1"
            ]
          },
          "metadata": {},
          "execution_count": 11
        }
      ]
    },
    {
      "cell_type": "code",
      "source": [
        "s = 'Life is to short'\n",
        "\n",
        "s.split()"
      ],
      "metadata": {
        "colab": {
          "base_uri": "https://localhost:8080/"
        },
        "id": "W-5gzBSELbCC",
        "outputId": "9a51c52a-f216-4387-988d-665e49be3d81"
      },
      "execution_count": 12,
      "outputs": [
        {
          "output_type": "execute_result",
          "data": {
            "text/plain": [
              "['Life', 'is', 'to', 'short']"
            ]
          },
          "metadata": {},
          "execution_count": 12
        }
      ]
    },
    {
      "cell_type": "code",
      "source": [
        "s = '010-1234-5678'\n",
        "\n",
        "s.split('-')"
      ],
      "metadata": {
        "colab": {
          "base_uri": "https://localhost:8080/"
        },
        "id": "odX38oWsLu7z",
        "outputId": "c2689d56-9f97-43a2-aa84-4bb4642ad335"
      },
      "execution_count": 14,
      "outputs": [
        {
          "output_type": "execute_result",
          "data": {
            "text/plain": [
              "['010', '1234', '5678']"
            ]
          },
          "metadata": {},
          "execution_count": 14
        }
      ]
    },
    {
      "cell_type": "code",
      "source": [
        "s = '제임스,25,남,서울'\n",
        "\n",
        "s.split(',')"
      ],
      "metadata": {
        "colab": {
          "base_uri": "https://localhost:8080/"
        },
        "id": "TjkUcW54L3GN",
        "outputId": "006274a7-2a7c-4a80-8c0d-9f515ae2ef23"
      },
      "execution_count": 15,
      "outputs": [
        {
          "output_type": "execute_result",
          "data": {
            "text/plain": [
              "['제임스', '25', '남', '서울']"
            ]
          },
          "metadata": {},
          "execution_count": 15
        }
      ]
    },
    {
      "cell_type": "code",
      "source": [
        "ques = input('이름과 나이를 함께 입력하세요(예 : 홍길동 26')\n",
        "ques.split()"
      ],
      "metadata": {
        "colab": {
          "base_uri": "https://localhost:8080/"
        },
        "id": "iBKXrfdqL-HC",
        "outputId": "e70f1737-3bea-40dc-8985-0055f91b48b2"
      },
      "execution_count": 17,
      "outputs": [
        {
          "name": "stdout",
          "output_type": "stream",
          "text": [
            "이름과 나이를 함께 입력하세요(예 : 홍길동 26홍길동 26\n"
          ]
        },
        {
          "output_type": "execute_result",
          "data": {
            "text/plain": [
              "['홍길동', '26']"
            ]
          },
          "metadata": {},
          "execution_count": 17
        }
      ]
    },
    {
      "cell_type": "code",
      "source": [
        "# 사용자 정의 함수 - 사용자가 직접 만든 함수. \n",
        "\n",
        "# 입력 input\n",
        "# 출력 output\n",
        "\n",
        "# 1. 입력이 있고 리턴이 있는 함수 \n",
        "# 2. 입력이 있고 리턴은 없는 함수 \n",
        "# 3. 입력이 없고 리턴은 있는 함수 \n",
        "# 4. 입력도 없고 리턴도 없는 함수 \n",
        "\n",
        "              # def 함수이름(매개변수):\n",
        "              #   본문\n",
        "              #   return 반환값"
      ],
      "metadata": {
        "id": "wAVIkUkqMaNy"
      },
      "execution_count": 18,
      "outputs": []
    },
    {
      "cell_type": "code",
      "source": [
        "def welcome():\n",
        "  print('Hello python')\n",
        "  print('Nice to meet you')\n",
        "\n",
        "welcome()"
      ],
      "metadata": {
        "colab": {
          "base_uri": "https://localhost:8080/"
        },
        "id": "5ALpA8BPOv2X",
        "outputId": "05e0769b-4e15-4e4f-d4f7-352d6310f9cb"
      },
      "execution_count": 21,
      "outputs": [
        {
          "output_type": "stream",
          "name": "stdout",
          "text": [
            "Hello python\n",
            "Nice to meet you\n"
          ]
        }
      ]
    },
    {
      "cell_type": "code",
      "source": [
        "#  입력이 있고 리턴은 없는 함수 \n",
        "\n",
        "def introduce(name,age):\n",
        "  print(f'내 이름은 {name}이고, 나이는 {age}입니다. ')\n",
        "\n",
        "introduce('ryu','26')\n",
        "introduce('andy','23')"
      ],
      "metadata": {
        "colab": {
          "base_uri": "https://localhost:8080/"
        },
        "id": "K2lFat2WPMJn",
        "outputId": "c9919721-538e-495a-ae2f-0debdf001e19"
      },
      "execution_count": 24,
      "outputs": [
        {
          "output_type": "stream",
          "name": "stdout",
          "text": [
            "내 이름은 ryu이고, 나이는 26입니다. \n",
            "내 이름은 andy이고, 나이는 23입니다. \n"
          ]
        }
      ]
    },
    {
      "cell_type": "code",
      "source": [
        "def show(*items):\n",
        "  for item in items:\n",
        "    print(item)\n",
        "\n",
        "show('python')\n",
        "show('happy','birthday')"
      ],
      "metadata": {
        "colab": {
          "base_uri": "https://localhost:8080/"
        },
        "id": "Er8sZVRbT-i9",
        "outputId": "dd20c420-0809-4d80-8cf7-ff22db072b29"
      },
      "execution_count": 26,
      "outputs": [
        {
          "output_type": "stream",
          "name": "stdout",
          "text": [
            "python\n",
            "happy\n",
            "birthday\n"
          ]
        }
      ]
    },
    {
      "cell_type": "code",
      "source": [
        "def addsum(*args):\n",
        "  sum = 0\n",
        "  for arg in args:\n",
        "    sum = sum + arg\n",
        "  print(sum)\n",
        "\n",
        "\n",
        "def addsum2(a,b):\n",
        "  print(a+b)\n",
        "\n",
        "def addsum3(a,b,c):\n",
        "  print(a+b+c)\n",
        "\n",
        "addsum(1,2)\n",
        "addsum(1,2,3,4,5,6)"
      ],
      "metadata": {
        "colab": {
          "base_uri": "https://localhost:8080/"
        },
        "id": "CeLk6zxBTqDP",
        "outputId": "20ea02c0-ab2f-4b61-ea98-fcf8f096d510"
      },
      "execution_count": 30,
      "outputs": [
        {
          "output_type": "stream",
          "name": "stdout",
          "text": [
            "3\n",
            "21\n"
          ]
        }
      ]
    },
    {
      "cell_type": "code",
      "source": [
        "# 가변 매개변수\n",
        "\n",
        "def greet(message = '안녕하세요'):\n",
        "  print(message)\n",
        "\n",
        "greet('반갑습니다.')\n",
        "greet()"
      ],
      "metadata": {
        "colab": {
          "base_uri": "https://localhost:8080/"
        },
        "id": "PVlC2flLV_YY",
        "outputId": "c69273c4-b628-46c1-9c08-722c3912f21b"
      },
      "execution_count": 31,
      "outputs": [
        {
          "output_type": "stream",
          "name": "stdout",
          "text": [
            "반갑습니다.\n",
            "안녕하세요\n"
          ]
        }
      ]
    },
    {
      "cell_type": "code",
      "source": [
        "# 디폴트 매개변수는 마지막에 위치시킨다.\n",
        "\n",
        "def greet(name,message = '안녕하세요'):\n",
        "  print(f'{name}님 {message}')\n",
        "\n",
        "greet('김철수')\n"
      ],
      "metadata": {
        "colab": {
          "base_uri": "https://localhost:8080/"
        },
        "id": "jsUY4jQrWiJM",
        "outputId": "271c2a39-a699-4fd4-cee4-366bd15b131f"
      },
      "execution_count": 35,
      "outputs": [
        {
          "output_type": "stream",
          "name": "stdout",
          "text": [
            "김철수님 안녕하세요\n"
          ]
        }
      ]
    },
    {
      "cell_type": "code",
      "source": [
        "# 입력이 없고 리턴이 있는 함수\n",
        "\n",
        "def address():\n",
        "  str = '우편번호 12345\\n'\n",
        "  str +='서울시 영등포구 여의도동'\n",
        "  return str\n",
        "\n",
        "print(address())"
      ],
      "metadata": {
        "colab": {
          "base_uri": "https://localhost:8080/"
        },
        "id": "VlKR71rfXH_s",
        "outputId": "b18728e2-827c-4b82-f895-169fb13de0ac"
      },
      "execution_count": 36,
      "outputs": [
        {
          "output_type": "stream",
          "name": "stdout",
          "text": [
            "우편번호 12345\n",
            "서울시 영등포구 여의도동\n"
          ]
        }
      ]
    },
    {
      "cell_type": "code",
      "source": [
        "def address():\n",
        "  str = '우편번호 12345\\n'\n",
        "  str +='서울시 영등포구 여의도동'\n",
        "  print(str)\n",
        "\n",
        "address()"
      ],
      "metadata": {
        "colab": {
          "base_uri": "https://localhost:8080/"
        },
        "id": "vK-rah1wYVuI",
        "outputId": "5ad67c65-7d72-466d-f0bc-7f8579f55b4a"
      },
      "execution_count": 38,
      "outputs": [
        {
          "output_type": "stream",
          "name": "stdout",
          "text": [
            "우편번호 12345\n",
            "서울시 영등포구 여의도동\n"
          ]
        }
      ]
    },
    {
      "cell_type": "code",
      "source": [
        "def calculator(*args):\n",
        "  return sum(args),sum(args)/len(args),max(args),min(args)\n",
        "\n",
        "a,b,c,d = calculator(1,2,3,4,5)\n",
        "print(a)\n",
        "print(b)\n",
        "print(c)\n",
        "print(d)"
      ],
      "metadata": {
        "colab": {
          "base_uri": "https://localhost:8080/"
        },
        "id": "GRnpattPYdao",
        "outputId": "f51e62ae-7df5-48bb-f85e-a3fa124e5831"
      },
      "execution_count": 44,
      "outputs": [
        {
          "output_type": "stream",
          "name": "stdout",
          "text": [
            "15\n",
            "3.0\n",
            "5\n",
            "1\n"
          ]
        }
      ]
    },
    {
      "cell_type": "code",
      "source": [
        "def charge(energy):\n",
        "  if energy < 0:\n",
        "    print('0보다 작은 에너지는 충전할 수 없습니다.')\n",
        "    return\n",
        "  print('에너지가 충전되었습니다.')\n",
        "\n",
        "charge(-1)\n"
      ],
      "metadata": {
        "colab": {
          "base_uri": "https://localhost:8080/"
        },
        "id": "uPj2mWeHZddY",
        "outputId": "054adeba-b573-47bb-9766-b5b5372ab4c5"
      },
      "execution_count": 47,
      "outputs": [
        {
          "output_type": "stream",
          "name": "stdout",
          "text": [
            "0보다 작은 에너지는 충전할 수 없습니다.\n"
          ]
        }
      ]
    },
    {
      "cell_type": "code",
      "source": [
        "# local variable & global variable\n",
        "\n",
        "# local variable 지역 변수 \n",
        "\n",
        "def f():\n",
        "  a = 10\n",
        "  print(f'내부 : {a}')\n",
        "\n",
        "f()\n",
        "\n",
        "print(f'외부 : {a}')"
      ],
      "metadata": {
        "colab": {
          "base_uri": "https://localhost:8080/"
        },
        "id": "d74wRYEJbXKq",
        "outputId": "f5db687d-bb37-41fa-b47e-3e2e6a3057f0"
      },
      "execution_count": 52,
      "outputs": [
        {
          "output_type": "stream",
          "name": "stdout",
          "text": [
            "내부 : 10\n",
            "외부 : 15\n"
          ]
        }
      ]
    },
    {
      "cell_type": "code",
      "source": [
        "# global variable 전역 변수\n",
        "\n",
        "b = 10\n",
        "\n",
        "def f():\n",
        "  print(f'내부 : {b}')\n",
        "\n",
        "\n",
        "f()\n",
        "\n",
        "print(f'내부 : {b}')\n"
      ],
      "metadata": {
        "colab": {
          "base_uri": "https://localhost:8080/"
        },
        "id": "mcS0qwtyb-bI",
        "outputId": "a8072f25-c7b2-4499-ca73-289c3b19ee7f"
      },
      "execution_count": 54,
      "outputs": [
        {
          "output_type": "stream",
          "name": "stdout",
          "text": [
            "내부 : 10\n",
            "내부 : 10\n"
          ]
        }
      ]
    },
    {
      "cell_type": "code",
      "source": [
        "\n",
        "def f():\n",
        "  global a\n",
        "  a = 10\n",
        "  print(a)\n",
        "f()\n",
        "\n",
        "print(a)"
      ],
      "metadata": {
        "colab": {
          "base_uri": "https://localhost:8080/"
        },
        "id": "LUliSF-PdslB",
        "outputId": "c1e8f6b2-421b-4749-9d4e-895a07fcc6fd"
      },
      "execution_count": 56,
      "outputs": [
        {
          "output_type": "stream",
          "name": "stdout",
          "text": [
            "10\n",
            "10\n"
          ]
        }
      ]
    },
    {
      "cell_type": "code",
      "source": [
        "import IPython\n",
        "# 1\n",
        "\n",
        "def vending_machine(money):\n",
        "  price = 700 # 700, 1400, 2100, 2800\n",
        "\n",
        "  for i in range((money // price)+1):\n",
        "    coin = money - price * i\n",
        "    print(f'음료수 = {i}개, 잔돈 = {coin}원')\n",
        "\n",
        "vending_machine(3000)"
      ],
      "metadata": {
        "colab": {
          "base_uri": "https://localhost:8080/"
        },
        "id": "7d9y1Z7KgbDD",
        "outputId": "51c4f163-5126-4137-bb40-dee90a49c361"
      },
      "execution_count": 61,
      "outputs": [
        {
          "output_type": "stream",
          "name": "stdout",
          "text": [
            "음료수 = 0개, 잔돈 = 3000원\n",
            "음료수 = 1개, 잔돈 = 2300원\n",
            "음료수 = 2개, 잔돈 = 1600원\n",
            "음료수 = 3개, 잔돈 = 900원\n",
            "음료수 = 4개, 잔돈 = 200원\n"
          ]
        }
      ]
    },
    {
      "cell_type": "code",
      "source": [
        "# 2 \n",
        "\n",
        "def get_average(marks):\n",
        "  sum = 0\n",
        "  for i in marks:\n",
        "    sum += marks[i]\n",
        "  return sum/len(marks)\n",
        "\n",
        "marks = {'국어':90, '영어':80, '수학':85}\n",
        "average = get_average(marks)\n",
        "print(f'평균은 {average}입니다.')"
      ],
      "metadata": {
        "colab": {
          "base_uri": "https://localhost:8080/"
        },
        "id": "fRNmAdWojL8d",
        "outputId": "bb1ef4fc-508e-477f-999c-e511240e55a7"
      },
      "execution_count": 62,
      "outputs": [
        {
          "output_type": "stream",
          "name": "stdout",
          "text": [
            "평균은 85.0입니다.\n"
          ]
        }
      ]
    },
    {
      "cell_type": "code",
      "source": [
        "# 3\n",
        "\n",
        "total = 0\n",
        "def gift(dic,who,money):\n",
        "  global total\n",
        "  total += money\n",
        "  dic[who] = money\n",
        "\n",
        "wedding = {}\n",
        "gift(wedding, '영희', 5)\n",
        "gift(wedding, '철수', 3)\n",
        "gift(wedding, '이모', 10)\n",
        "\n",
        "print(f'축의금 명단 : {wedding}')\n",
        "print(f'전체 축의금 : {total}')\n",
        "\n"
      ],
      "metadata": {
        "colab": {
          "base_uri": "https://localhost:8080/"
        },
        "id": "Dm0DIU_Om1Zk",
        "outputId": "50dd2eaf-4ee6-495e-af43-bb3e8e974867"
      },
      "execution_count": 65,
      "outputs": [
        {
          "output_type": "stream",
          "name": "stdout",
          "text": [
            "축의금 명단 : {'영희': 5, '철수': 3, '이모': 10}\n",
            "전체 축의금 : 18\n"
          ]
        }
      ]
    }
  ]
}